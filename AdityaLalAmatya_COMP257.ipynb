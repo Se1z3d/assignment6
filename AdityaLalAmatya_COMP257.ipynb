{
  "nbformat": 4,
  "nbformat_minor": 0,
  "metadata": {
    "colab": {
      "provenance": []
    },
    "kernelspec": {
      "name": "python3",
      "display_name": "Python 3"
    },
    "language_info": {
      "name": "python"
    }
  },
  "cells": [
    {
      "cell_type": "markdown",
      "source": [
        "1. Using TF Agents, design & implement a DQN  with 4 output neurons (one per possible action) that uses the Model class in the keras.models. [15 points]\n",
        "2. Discuss the rationale of the activation functions & the loss function used in the network. [10 points]\n",
        "3. Implement a strategy that adjusts the following hyperparameters: (i) the number of iterations, (ii) the number of episodes, (iii) the maximum number of steps, and (iv) the discount factor\n",
        " at each step. [50 points]\n",
        "4. Train the agent on the LunarLander-v2 environment for a sufficient number of episodes to achieve a satisfactory level of performance. [10 points]\n",
        "5. Analyze the agent's learning progress by plotting relevant performance metrics (e.g., cumulative rewards, episode length) over time. [10 points]\n",
        "6.Discuss the challenges faced during training and potential strategies for further improving the agent's performance. [5 points]\n",
        "\n"
      ],
      "metadata": {
        "id": "xyoA3DI0E68Y"
      }
    },
    {
      "cell_type": "code",
      "execution_count": 2,
      "metadata": {
        "colab": {
          "base_uri": "https://localhost:8080/"
        },
        "id": "xWPV-4SPj6aJ",
        "outputId": "3c7a2c15-f2dc-4f75-e108-afdc688a2e04"
      },
      "outputs": [
        {
          "output_type": "stream",
          "name": "stdout",
          "text": [
            "Get:1 https://developer.download.nvidia.com/compute/cuda/repos/ubuntu2204/x86_64  InRelease [1,581 B]\n",
            "Get:2 http://security.ubuntu.com/ubuntu jammy-security InRelease [110 kB]\n",
            "Hit:3 http://archive.ubuntu.com/ubuntu jammy InRelease\n",
            "Get:4 http://archive.ubuntu.com/ubuntu jammy-updates InRelease [119 kB]\n",
            "Get:5 https://cloud.r-project.org/bin/linux/ubuntu jammy-cran40/ InRelease [3,626 B]\n",
            "Hit:6 https://ppa.launchpadcontent.net/c2d4u.team/c2d4u4.0+/ubuntu jammy InRelease\n",
            "Hit:7 https://ppa.launchpadcontent.net/deadsnakes/ppa/ubuntu jammy InRelease\n",
            "Get:8 http://archive.ubuntu.com/ubuntu jammy-backports InRelease [109 kB]\n",
            "Get:9 https://ppa.launchpadcontent.net/graphics-drivers/ppa/ubuntu jammy InRelease [24.3 kB]\n",
            "Hit:10 https://ppa.launchpadcontent.net/ubuntugis/ppa/ubuntu jammy InRelease\n",
            "Get:11 https://developer.download.nvidia.com/compute/cuda/repos/ubuntu2204/x86_64  Packages [634 kB]\n",
            "Get:12 http://security.ubuntu.com/ubuntu jammy-security/universe amd64 Packages [1,046 kB]\n",
            "Get:13 http://security.ubuntu.com/ubuntu jammy-security/restricted amd64 Packages [1,572 kB]\n",
            "Get:14 http://security.ubuntu.com/ubuntu jammy-security/main amd64 Packages [1,326 kB]\n",
            "Get:15 http://archive.ubuntu.com/ubuntu jammy-updates/universe amd64 Packages [1,305 kB]\n",
            "Get:16 https://ppa.launchpadcontent.net/graphics-drivers/ppa/ubuntu jammy/main amd64 Packages [39.8 kB]\n",
            "Get:17 http://archive.ubuntu.com/ubuntu jammy-updates/main amd64 Packages [1,599 kB]\n",
            "Get:18 http://archive.ubuntu.com/ubuntu jammy-updates/restricted amd64 Packages [1,602 kB]\n",
            "Get:19 http://archive.ubuntu.com/ubuntu jammy-backports/universe amd64 Packages [28.1 kB]\n",
            "Get:20 http://archive.ubuntu.com/ubuntu jammy-backports/main amd64 Packages [50.4 kB]\n",
            "Fetched 9,570 kB in 8s (1,235 kB/s)\n",
            "Reading package lists... Done\n"
          ]
        }
      ],
      "source": [
        "!sudo apt-get update"
      ]
    },
    {
      "cell_type": "code",
      "source": [
        "!sudo apt-get install -y xvfb ffmpeg freeglut3-dev\n",
        "!pip install 'imageio==2.4.0'\n",
        "!pip install pyvirtualdisplay\n",
        "!pip install tf-agents[reverb]\n",
        "!pip install pyglet xvfbwrapper"
      ],
      "metadata": {
        "colab": {
          "base_uri": "https://localhost:8080/"
        },
        "id": "HJIgYppfkEA-",
        "outputId": "31defa32-f00b-4db4-d11d-9238d4afb54e"
      },
      "execution_count": 3,
      "outputs": [
        {
          "output_type": "stream",
          "name": "stdout",
          "text": [
            "Reading package lists... Done\n",
            "Building dependency tree... Done\n",
            "Reading state information... Done\n",
            "ffmpeg is already the newest version (7:4.4.2-0ubuntu0.22.04.1).\n",
            "The following additional packages will be installed:\n",
            "  freeglut3 libegl-dev libfontenc1 libgl-dev libgl1-mesa-dev libgles-dev\n",
            "  libgles1 libglu1-mesa libglu1-mesa-dev libglvnd-core-dev libglvnd-dev\n",
            "  libglx-dev libice-dev libopengl-dev libsm-dev libxfont2 libxkbfile1\n",
            "  libxt-dev x11-xkb-utils xfonts-base xfonts-encodings xfonts-utils\n",
            "  xserver-common\n",
            "Suggested packages:\n",
            "  libice-doc libsm-doc libxt-doc\n",
            "The following NEW packages will be installed:\n",
            "  freeglut3 freeglut3-dev libegl-dev libfontenc1 libgl-dev libgl1-mesa-dev\n",
            "  libgles-dev libgles1 libglu1-mesa libglu1-mesa-dev libglvnd-core-dev\n",
            "  libglvnd-dev libglx-dev libice-dev libopengl-dev libsm-dev libxfont2\n",
            "  libxkbfile1 libxt-dev x11-xkb-utils xfonts-base xfonts-encodings\n",
            "  xfonts-utils xserver-common xvfb\n",
            "0 upgraded, 25 newly installed, 0 to remove and 28 not upgraded.\n",
            "Need to get 9,074 kB of archives.\n",
            "After this operation, 18.7 MB of additional disk space will be used.\n",
            "Get:1 http://archive.ubuntu.com/ubuntu jammy/universe amd64 freeglut3 amd64 2.8.1-6 [74.0 kB]\n",
            "Get:2 http://archive.ubuntu.com/ubuntu jammy/main amd64 libglx-dev amd64 1.4.0-1 [14.1 kB]\n",
            "Get:3 http://archive.ubuntu.com/ubuntu jammy/main amd64 libgl-dev amd64 1.4.0-1 [101 kB]\n",
            "Get:4 http://archive.ubuntu.com/ubuntu jammy/main amd64 libglvnd-core-dev amd64 1.4.0-1 [12.7 kB]\n",
            "Get:5 http://archive.ubuntu.com/ubuntu jammy/main amd64 libegl-dev amd64 1.4.0-1 [18.0 kB]\n",
            "Get:6 http://archive.ubuntu.com/ubuntu jammy/main amd64 libgles1 amd64 1.4.0-1 [11.5 kB]\n",
            "Get:7 http://archive.ubuntu.com/ubuntu jammy/main amd64 libgles-dev amd64 1.4.0-1 [49.4 kB]\n",
            "Get:8 http://archive.ubuntu.com/ubuntu jammy/main amd64 libopengl-dev amd64 1.4.0-1 [3,400 B]\n",
            "Get:9 http://archive.ubuntu.com/ubuntu jammy/main amd64 libglvnd-dev amd64 1.4.0-1 [3,162 B]\n",
            "Get:10 http://archive.ubuntu.com/ubuntu jammy-updates/main amd64 libgl1-mesa-dev amd64 23.0.4-0ubuntu1~22.04.1 [6,510 B]\n",
            "Get:11 http://archive.ubuntu.com/ubuntu jammy/main amd64 libglu1-mesa amd64 9.0.2-1 [145 kB]\n",
            "Get:12 http://archive.ubuntu.com/ubuntu jammy/main amd64 libglu1-mesa-dev amd64 9.0.2-1 [231 kB]\n",
            "Get:13 http://archive.ubuntu.com/ubuntu jammy/main amd64 libice-dev amd64 2:1.0.10-1build2 [51.4 kB]\n",
            "Get:14 http://archive.ubuntu.com/ubuntu jammy/main amd64 libsm-dev amd64 2:1.2.3-1build2 [18.1 kB]\n",
            "Get:15 http://archive.ubuntu.com/ubuntu jammy/main amd64 libxt-dev amd64 1:1.2.1-1 [396 kB]\n",
            "Get:16 http://archive.ubuntu.com/ubuntu jammy/universe amd64 freeglut3-dev amd64 2.8.1-6 [126 kB]\n",
            "Get:17 http://archive.ubuntu.com/ubuntu jammy/main amd64 libfontenc1 amd64 1:1.1.4-1build3 [14.7 kB]\n",
            "Get:18 http://archive.ubuntu.com/ubuntu jammy/main amd64 libxfont2 amd64 1:2.0.5-1build1 [94.5 kB]\n",
            "Get:19 http://archive.ubuntu.com/ubuntu jammy/main amd64 libxkbfile1 amd64 1:1.1.0-1build3 [71.8 kB]\n",
            "Get:20 http://archive.ubuntu.com/ubuntu jammy/main amd64 x11-xkb-utils amd64 7.7+5build4 [172 kB]\n",
            "Get:21 http://archive.ubuntu.com/ubuntu jammy/main amd64 xfonts-encodings all 1:1.0.5-0ubuntu2 [578 kB]\n",
            "Get:22 http://archive.ubuntu.com/ubuntu jammy/main amd64 xfonts-utils amd64 1:7.7+6build2 [94.6 kB]\n",
            "Get:23 http://archive.ubuntu.com/ubuntu jammy/main amd64 xfonts-base all 1:1.0.5 [5,896 kB]\n",
            "Get:24 http://archive.ubuntu.com/ubuntu jammy-updates/main amd64 xserver-common all 2:21.1.4-2ubuntu1.7~22.04.5 [28.2 kB]\n",
            "Get:25 http://archive.ubuntu.com/ubuntu jammy-updates/universe amd64 xvfb amd64 2:21.1.4-2ubuntu1.7~22.04.5 [863 kB]\n",
            "Fetched 9,074 kB in 3s (3,016 kB/s)\n",
            "debconf: unable to initialize frontend: Dialog\n",
            "debconf: (No usable dialog-like program is installed, so the dialog based frontend cannot be used. at /usr/share/perl5/Debconf/FrontEnd/Dialog.pm line 78, <> line 25.)\n",
            "debconf: falling back to frontend: Readline\n",
            "debconf: unable to initialize frontend: Readline\n",
            "debconf: (This frontend requires a controlling tty.)\n",
            "debconf: falling back to frontend: Teletype\n",
            "dpkg-preconfigure: unable to re-open stdin: \n",
            "Selecting previously unselected package freeglut3:amd64.\n",
            "(Reading database ... 121666 files and directories currently installed.)\n",
            "Preparing to unpack .../00-freeglut3_2.8.1-6_amd64.deb ...\n",
            "Unpacking freeglut3:amd64 (2.8.1-6) ...\n",
            "Selecting previously unselected package libglx-dev:amd64.\n",
            "Preparing to unpack .../01-libglx-dev_1.4.0-1_amd64.deb ...\n",
            "Unpacking libglx-dev:amd64 (1.4.0-1) ...\n",
            "Selecting previously unselected package libgl-dev:amd64.\n",
            "Preparing to unpack .../02-libgl-dev_1.4.0-1_amd64.deb ...\n",
            "Unpacking libgl-dev:amd64 (1.4.0-1) ...\n",
            "Selecting previously unselected package libglvnd-core-dev:amd64.\n",
            "Preparing to unpack .../03-libglvnd-core-dev_1.4.0-1_amd64.deb ...\n",
            "Unpacking libglvnd-core-dev:amd64 (1.4.0-1) ...\n",
            "Selecting previously unselected package libegl-dev:amd64.\n",
            "Preparing to unpack .../04-libegl-dev_1.4.0-1_amd64.deb ...\n",
            "Unpacking libegl-dev:amd64 (1.4.0-1) ...\n",
            "Selecting previously unselected package libgles1:amd64.\n",
            "Preparing to unpack .../05-libgles1_1.4.0-1_amd64.deb ...\n",
            "Unpacking libgles1:amd64 (1.4.0-1) ...\n",
            "Selecting previously unselected package libgles-dev:amd64.\n",
            "Preparing to unpack .../06-libgles-dev_1.4.0-1_amd64.deb ...\n",
            "Unpacking libgles-dev:amd64 (1.4.0-1) ...\n",
            "Selecting previously unselected package libopengl-dev:amd64.\n",
            "Preparing to unpack .../07-libopengl-dev_1.4.0-1_amd64.deb ...\n",
            "Unpacking libopengl-dev:amd64 (1.4.0-1) ...\n",
            "Selecting previously unselected package libglvnd-dev:amd64.\n",
            "Preparing to unpack .../08-libglvnd-dev_1.4.0-1_amd64.deb ...\n",
            "Unpacking libglvnd-dev:amd64 (1.4.0-1) ...\n",
            "Selecting previously unselected package libgl1-mesa-dev:amd64.\n",
            "Preparing to unpack .../09-libgl1-mesa-dev_23.0.4-0ubuntu1~22.04.1_amd64.deb ...\n",
            "Unpacking libgl1-mesa-dev:amd64 (23.0.4-0ubuntu1~22.04.1) ...\n",
            "Selecting previously unselected package libglu1-mesa:amd64.\n",
            "Preparing to unpack .../10-libglu1-mesa_9.0.2-1_amd64.deb ...\n",
            "Unpacking libglu1-mesa:amd64 (9.0.2-1) ...\n",
            "Selecting previously unselected package libglu1-mesa-dev:amd64.\n",
            "Preparing to unpack .../11-libglu1-mesa-dev_9.0.2-1_amd64.deb ...\n",
            "Unpacking libglu1-mesa-dev:amd64 (9.0.2-1) ...\n",
            "Selecting previously unselected package libice-dev:amd64.\n",
            "Preparing to unpack .../12-libice-dev_2%3a1.0.10-1build2_amd64.deb ...\n",
            "Unpacking libice-dev:amd64 (2:1.0.10-1build2) ...\n",
            "Selecting previously unselected package libsm-dev:amd64.\n",
            "Preparing to unpack .../13-libsm-dev_2%3a1.2.3-1build2_amd64.deb ...\n",
            "Unpacking libsm-dev:amd64 (2:1.2.3-1build2) ...\n",
            "Selecting previously unselected package libxt-dev:amd64.\n",
            "Preparing to unpack .../14-libxt-dev_1%3a1.2.1-1_amd64.deb ...\n",
            "Unpacking libxt-dev:amd64 (1:1.2.1-1) ...\n",
            "Selecting previously unselected package freeglut3-dev:amd64.\n",
            "Preparing to unpack .../15-freeglut3-dev_2.8.1-6_amd64.deb ...\n",
            "Unpacking freeglut3-dev:amd64 (2.8.1-6) ...\n",
            "Selecting previously unselected package libfontenc1:amd64.\n",
            "Preparing to unpack .../16-libfontenc1_1%3a1.1.4-1build3_amd64.deb ...\n",
            "Unpacking libfontenc1:amd64 (1:1.1.4-1build3) ...\n",
            "Selecting previously unselected package libxfont2:amd64.\n",
            "Preparing to unpack .../17-libxfont2_1%3a2.0.5-1build1_amd64.deb ...\n",
            "Unpacking libxfont2:amd64 (1:2.0.5-1build1) ...\n",
            "Selecting previously unselected package libxkbfile1:amd64.\n",
            "Preparing to unpack .../18-libxkbfile1_1%3a1.1.0-1build3_amd64.deb ...\n",
            "Unpacking libxkbfile1:amd64 (1:1.1.0-1build3) ...\n",
            "Selecting previously unselected package x11-xkb-utils.\n",
            "Preparing to unpack .../19-x11-xkb-utils_7.7+5build4_amd64.deb ...\n",
            "Unpacking x11-xkb-utils (7.7+5build4) ...\n",
            "Selecting previously unselected package xfonts-encodings.\n",
            "Preparing to unpack .../20-xfonts-encodings_1%3a1.0.5-0ubuntu2_all.deb ...\n",
            "Unpacking xfonts-encodings (1:1.0.5-0ubuntu2) ...\n",
            "Selecting previously unselected package xfonts-utils.\n",
            "Preparing to unpack .../21-xfonts-utils_1%3a7.7+6build2_amd64.deb ...\n",
            "Unpacking xfonts-utils (1:7.7+6build2) ...\n",
            "Selecting previously unselected package xfonts-base.\n",
            "Preparing to unpack .../22-xfonts-base_1%3a1.0.5_all.deb ...\n",
            "Unpacking xfonts-base (1:1.0.5) ...\n",
            "Selecting previously unselected package xserver-common.\n",
            "Preparing to unpack .../23-xserver-common_2%3a21.1.4-2ubuntu1.7~22.04.5_all.deb ...\n",
            "Unpacking xserver-common (2:21.1.4-2ubuntu1.7~22.04.5) ...\n",
            "Selecting previously unselected package xvfb.\n",
            "Preparing to unpack .../24-xvfb_2%3a21.1.4-2ubuntu1.7~22.04.5_amd64.deb ...\n",
            "Unpacking xvfb (2:21.1.4-2ubuntu1.7~22.04.5) ...\n",
            "Setting up freeglut3:amd64 (2.8.1-6) ...\n",
            "Setting up libglvnd-core-dev:amd64 (1.4.0-1) ...\n",
            "Setting up libice-dev:amd64 (2:1.0.10-1build2) ...\n",
            "Setting up libsm-dev:amd64 (2:1.2.3-1build2) ...\n",
            "Setting up libfontenc1:amd64 (1:1.1.4-1build3) ...\n",
            "Setting up libxt-dev:amd64 (1:1.2.1-1) ...\n",
            "Setting up libgles1:amd64 (1.4.0-1) ...\n",
            "Setting up xfonts-encodings (1:1.0.5-0ubuntu2) ...\n",
            "Setting up libglx-dev:amd64 (1.4.0-1) ...\n",
            "Setting up libglu1-mesa:amd64 (9.0.2-1) ...\n",
            "Setting up libxkbfile1:amd64 (1:1.1.0-1build3) ...\n",
            "Setting up libopengl-dev:amd64 (1.4.0-1) ...\n",
            "Setting up libxfont2:amd64 (1:2.0.5-1build1) ...\n",
            "Setting up libgl-dev:amd64 (1.4.0-1) ...\n",
            "Setting up libegl-dev:amd64 (1.4.0-1) ...\n",
            "Setting up x11-xkb-utils (7.7+5build4) ...\n",
            "Setting up xfonts-utils (1:7.7+6build2) ...\n",
            "Setting up xfonts-base (1:1.0.5) ...\n",
            "Setting up libglu1-mesa-dev:amd64 (9.0.2-1) ...\n",
            "Setting up xserver-common (2:21.1.4-2ubuntu1.7~22.04.5) ...\n",
            "Setting up libgles-dev:amd64 (1.4.0-1) ...\n",
            "Setting up xvfb (2:21.1.4-2ubuntu1.7~22.04.5) ...\n",
            "Setting up libglvnd-dev:amd64 (1.4.0-1) ...\n",
            "Setting up libgl1-mesa-dev:amd64 (23.0.4-0ubuntu1~22.04.1) ...\n",
            "Setting up freeglut3-dev:amd64 (2.8.1-6) ...\n",
            "Processing triggers for libc-bin (2.35-0ubuntu3.4) ...\n",
            "/sbin/ldconfig.real: /usr/local/lib/libtbbmalloc_proxy.so.2 is not a symbolic link\n",
            "\n",
            "/sbin/ldconfig.real: /usr/local/lib/libtbbbind_2_5.so.3 is not a symbolic link\n",
            "\n",
            "/sbin/ldconfig.real: /usr/local/lib/libtbbbind.so.3 is not a symbolic link\n",
            "\n",
            "/sbin/ldconfig.real: /usr/local/lib/libtbb.so.12 is not a symbolic link\n",
            "\n",
            "/sbin/ldconfig.real: /usr/local/lib/libtbbmalloc.so.2 is not a symbolic link\n",
            "\n",
            "/sbin/ldconfig.real: /usr/local/lib/libtbbbind_2_0.so.3 is not a symbolic link\n",
            "\n",
            "Processing triggers for man-db (2.10.2-1) ...\n",
            "Processing triggers for fontconfig (2.13.1-4.2ubuntu5) ...\n",
            "Collecting imageio==2.4.0\n",
            "  Downloading imageio-2.4.0.tar.gz (3.3 MB)\n",
            "\u001b[2K     \u001b[90m━━━━━━━━━━━━━━━━━━━━━━━━━━━━━━━━━━━━━━━━\u001b[0m \u001b[32m3.3/3.3 MB\u001b[0m \u001b[31m15.2 MB/s\u001b[0m eta \u001b[36m0:00:00\u001b[0m\n",
            "\u001b[?25h  Preparing metadata (setup.py) ... \u001b[?25l\u001b[?25hdone\n",
            "Requirement already satisfied: numpy in /usr/local/lib/python3.10/dist-packages (from imageio==2.4.0) (1.23.5)\n",
            "Requirement already satisfied: pillow in /usr/local/lib/python3.10/dist-packages (from imageio==2.4.0) (9.4.0)\n",
            "Building wheels for collected packages: imageio\n",
            "  Building wheel for imageio (setup.py) ... \u001b[?25l\u001b[?25hdone\n",
            "  Created wheel for imageio: filename=imageio-2.4.0-py3-none-any.whl size=3303894 sha256=4d49bf71b55e35c3820cc56362488053deb8e23d9d2fae72241269cb0a4c94e9\n",
            "  Stored in directory: /root/.cache/pip/wheels/8a/d8/1c/eb9350a4bd3ae8e8814a2f7f9cc832fedad8ea5a926181d60d\n",
            "Successfully built imageio\n",
            "Installing collected packages: imageio\n",
            "  Attempting uninstall: imageio\n",
            "    Found existing installation: imageio 2.31.6\n",
            "    Uninstalling imageio-2.31.6:\n",
            "      Successfully uninstalled imageio-2.31.6\n",
            "\u001b[31mERROR: pip's dependency resolver does not currently take into account all the packages that are installed. This behaviour is the source of the following dependency conflicts.\n",
            "moviepy 1.0.3 requires imageio<3.0,>=2.5; python_version >= \"3.4\", but you have imageio 2.4.0 which is incompatible.\n",
            "scikit-image 0.19.3 requires imageio>=2.4.1, but you have imageio 2.4.0 which is incompatible.\u001b[0m\u001b[31m\n",
            "\u001b[0mSuccessfully installed imageio-2.4.0\n",
            "Collecting pyvirtualdisplay\n",
            "  Downloading PyVirtualDisplay-3.0-py3-none-any.whl (15 kB)\n",
            "Installing collected packages: pyvirtualdisplay\n",
            "Successfully installed pyvirtualdisplay-3.0\n",
            "Collecting tf-agents[reverb]\n",
            "  Downloading tf_agents-0.19.0-py3-none-any.whl (1.4 MB)\n",
            "\u001b[2K     \u001b[90m━━━━━━━━━━━━━━━━━━━━━━━━━━━━━━━━━━━━━━━━\u001b[0m \u001b[32m1.4/1.4 MB\u001b[0m \u001b[31m7.5 MB/s\u001b[0m eta \u001b[36m0:00:00\u001b[0m\n",
            "\u001b[?25hRequirement already satisfied: absl-py>=0.6.1 in /usr/local/lib/python3.10/dist-packages (from tf-agents[reverb]) (1.4.0)\n",
            "Requirement already satisfied: cloudpickle>=1.3 in /usr/local/lib/python3.10/dist-packages (from tf-agents[reverb]) (2.2.1)\n",
            "Requirement already satisfied: gin-config>=0.4.0 in /usr/local/lib/python3.10/dist-packages (from tf-agents[reverb]) (0.5.0)\n",
            "Collecting gym<=0.23.0,>=0.17.0 (from tf-agents[reverb])\n",
            "  Downloading gym-0.23.0.tar.gz (624 kB)\n",
            "\u001b[2K     \u001b[90m━━━━━━━━━━━━━━━━━━━━━━━━━━━━━━━━━━━━━━━━\u001b[0m \u001b[32m624.4/624.4 kB\u001b[0m \u001b[31m11.5 MB/s\u001b[0m eta \u001b[36m0:00:00\u001b[0m\n",
            "\u001b[?25h  Installing build dependencies ... \u001b[?25l\u001b[?25hdone\n",
            "  Getting requirements to build wheel ... \u001b[?25l\u001b[?25hdone\n",
            "  Preparing metadata (pyproject.toml) ... \u001b[?25l\u001b[?25hdone\n",
            "Requirement already satisfied: numpy>=1.19.0 in /usr/local/lib/python3.10/dist-packages (from tf-agents[reverb]) (1.23.5)\n",
            "Requirement already satisfied: pillow in /usr/local/lib/python3.10/dist-packages (from tf-agents[reverb]) (9.4.0)\n",
            "Requirement already satisfied: six>=1.10.0 in /usr/local/lib/python3.10/dist-packages (from tf-agents[reverb]) (1.16.0)\n",
            "Requirement already satisfied: protobuf>=3.11.3 in /usr/local/lib/python3.10/dist-packages (from tf-agents[reverb]) (3.20.3)\n",
            "Requirement already satisfied: wrapt>=1.11.1 in /usr/local/lib/python3.10/dist-packages (from tf-agents[reverb]) (1.14.1)\n",
            "Requirement already satisfied: typing-extensions==4.5.0 in /usr/local/lib/python3.10/dist-packages (from tf-agents[reverb]) (4.5.0)\n",
            "Collecting pygame==2.1.3 (from tf-agents[reverb])\n",
            "  Downloading pygame-2.1.3-cp310-cp310-manylinux_2_17_x86_64.manylinux2014_x86_64.whl (13.7 MB)\n",
            "\u001b[2K     \u001b[90m━━━━━━━━━━━━━━━━━━━━━━━━━━━━━━━━━━━━━━━━\u001b[0m \u001b[32m13.7/13.7 MB\u001b[0m \u001b[31m32.1 MB/s\u001b[0m eta \u001b[36m0:00:00\u001b[0m\n",
            "\u001b[?25hCollecting tensorflow-probability~=0.23.0 (from tf-agents[reverb])\n",
            "  Downloading tensorflow_probability-0.23.0-py2.py3-none-any.whl (6.9 MB)\n",
            "\u001b[2K     \u001b[90m━━━━━━━━━━━━━━━━━━━━━━━━━━━━━━━━━━━━━━━━\u001b[0m \u001b[32m6.9/6.9 MB\u001b[0m \u001b[31m59.3 MB/s\u001b[0m eta \u001b[36m0:00:00\u001b[0m\n",
            "\u001b[?25hCollecting rlds (from tf-agents[reverb])\n",
            "  Downloading rlds-0.1.8-py3-none-manylinux2010_x86_64.whl (48 kB)\n",
            "\u001b[2K     \u001b[90m━━━━━━━━━━━━━━━━━━━━━━━━━━━━━━━━━━━━━━━━\u001b[0m \u001b[32m48.4/48.4 kB\u001b[0m \u001b[31m5.2 MB/s\u001b[0m eta \u001b[36m0:00:00\u001b[0m\n",
            "\u001b[?25hCollecting dm-reverb~=0.14.0 (from tf-agents[reverb])\n",
            "  Downloading dm_reverb-0.14.0-cp310-cp310-manylinux2014_x86_64.whl (6.4 MB)\n",
            "\u001b[2K     \u001b[90m━━━━━━━━━━━━━━━━━━━━━━━━━━━━━━━━━━━━━━━━\u001b[0m \u001b[32m6.4/6.4 MB\u001b[0m \u001b[31m72.4 MB/s\u001b[0m eta \u001b[36m0:00:00\u001b[0m\n",
            "\u001b[?25hRequirement already satisfied: tensorflow~=2.15.0 in /usr/local/lib/python3.10/dist-packages (from tf-agents[reverb]) (2.15.0)\n",
            "Requirement already satisfied: dm-tree in /usr/local/lib/python3.10/dist-packages (from dm-reverb~=0.14.0->tf-agents[reverb]) (0.1.8)\n",
            "Requirement already satisfied: portpicker in /usr/local/lib/python3.10/dist-packages (from dm-reverb~=0.14.0->tf-agents[reverb]) (1.5.2)\n",
            "Requirement already satisfied: gym-notices>=0.0.4 in /usr/local/lib/python3.10/dist-packages (from gym<=0.23.0,>=0.17.0->tf-agents[reverb]) (0.0.8)\n",
            "Requirement already satisfied: astunparse>=1.6.0 in /usr/local/lib/python3.10/dist-packages (from tensorflow~=2.15.0->tf-agents[reverb]) (1.6.3)\n",
            "Requirement already satisfied: flatbuffers>=23.5.26 in /usr/local/lib/python3.10/dist-packages (from tensorflow~=2.15.0->tf-agents[reverb]) (23.5.26)\n",
            "Requirement already satisfied: gast!=0.5.0,!=0.5.1,!=0.5.2,>=0.2.1 in /usr/local/lib/python3.10/dist-packages (from tensorflow~=2.15.0->tf-agents[reverb]) (0.5.4)\n",
            "Requirement already satisfied: google-pasta>=0.1.1 in /usr/local/lib/python3.10/dist-packages (from tensorflow~=2.15.0->tf-agents[reverb]) (0.2.0)\n",
            "Requirement already satisfied: h5py>=2.9.0 in /usr/local/lib/python3.10/dist-packages (from tensorflow~=2.15.0->tf-agents[reverb]) (3.9.0)\n",
            "Requirement already satisfied: libclang>=13.0.0 in /usr/local/lib/python3.10/dist-packages (from tensorflow~=2.15.0->tf-agents[reverb]) (16.0.6)\n",
            "Requirement already satisfied: ml-dtypes~=0.2.0 in /usr/local/lib/python3.10/dist-packages (from tensorflow~=2.15.0->tf-agents[reverb]) (0.2.0)\n",
            "Requirement already satisfied: opt-einsum>=2.3.2 in /usr/local/lib/python3.10/dist-packages (from tensorflow~=2.15.0->tf-agents[reverb]) (3.3.0)\n",
            "Requirement already satisfied: packaging in /usr/local/lib/python3.10/dist-packages (from tensorflow~=2.15.0->tf-agents[reverb]) (23.2)\n",
            "Requirement already satisfied: setuptools in /usr/local/lib/python3.10/dist-packages (from tensorflow~=2.15.0->tf-agents[reverb]) (67.7.2)\n",
            "Requirement already satisfied: termcolor>=1.1.0 in /usr/local/lib/python3.10/dist-packages (from tensorflow~=2.15.0->tf-agents[reverb]) (2.4.0)\n",
            "Requirement already satisfied: tensorflow-io-gcs-filesystem>=0.23.1 in /usr/local/lib/python3.10/dist-packages (from tensorflow~=2.15.0->tf-agents[reverb]) (0.34.0)\n",
            "Requirement already satisfied: grpcio<2.0,>=1.24.3 in /usr/local/lib/python3.10/dist-packages (from tensorflow~=2.15.0->tf-agents[reverb]) (1.60.0)\n",
            "Requirement already satisfied: tensorboard<2.16,>=2.15 in /usr/local/lib/python3.10/dist-packages (from tensorflow~=2.15.0->tf-agents[reverb]) (2.15.1)\n",
            "Requirement already satisfied: tensorflow-estimator<2.16,>=2.15.0 in /usr/local/lib/python3.10/dist-packages (from tensorflow~=2.15.0->tf-agents[reverb]) (2.15.0)\n",
            "Requirement already satisfied: keras<2.16,>=2.15.0 in /usr/local/lib/python3.10/dist-packages (from tensorflow~=2.15.0->tf-agents[reverb]) (2.15.0)\n",
            "Requirement already satisfied: decorator in /usr/local/lib/python3.10/dist-packages (from tensorflow-probability~=0.23.0->tf-agents[reverb]) (4.4.2)\n",
            "Requirement already satisfied: wheel<1.0,>=0.23.0 in /usr/local/lib/python3.10/dist-packages (from astunparse>=1.6.0->tensorflow~=2.15.0->tf-agents[reverb]) (0.42.0)\n",
            "Requirement already satisfied: google-auth<3,>=1.6.3 in /usr/local/lib/python3.10/dist-packages (from tensorboard<2.16,>=2.15->tensorflow~=2.15.0->tf-agents[reverb]) (2.17.3)\n",
            "Requirement already satisfied: google-auth-oauthlib<2,>=0.5 in /usr/local/lib/python3.10/dist-packages (from tensorboard<2.16,>=2.15->tensorflow~=2.15.0->tf-agents[reverb]) (1.2.0)\n",
            "Requirement already satisfied: markdown>=2.6.8 in /usr/local/lib/python3.10/dist-packages (from tensorboard<2.16,>=2.15->tensorflow~=2.15.0->tf-agents[reverb]) (3.5.1)\n",
            "Requirement already satisfied: requests<3,>=2.21.0 in /usr/local/lib/python3.10/dist-packages (from tensorboard<2.16,>=2.15->tensorflow~=2.15.0->tf-agents[reverb]) (2.31.0)\n",
            "Requirement already satisfied: tensorboard-data-server<0.8.0,>=0.7.0 in /usr/local/lib/python3.10/dist-packages (from tensorboard<2.16,>=2.15->tensorflow~=2.15.0->tf-agents[reverb]) (0.7.2)\n",
            "Requirement already satisfied: werkzeug>=1.0.1 in /usr/local/lib/python3.10/dist-packages (from tensorboard<2.16,>=2.15->tensorflow~=2.15.0->tf-agents[reverb]) (3.0.1)\n",
            "Requirement already satisfied: psutil in /usr/local/lib/python3.10/dist-packages (from portpicker->dm-reverb~=0.14.0->tf-agents[reverb]) (5.9.5)\n",
            "Requirement already satisfied: cachetools<6.0,>=2.0.0 in /usr/local/lib/python3.10/dist-packages (from google-auth<3,>=1.6.3->tensorboard<2.16,>=2.15->tensorflow~=2.15.0->tf-agents[reverb]) (5.3.2)\n",
            "Requirement already satisfied: pyasn1-modules>=0.2.1 in /usr/local/lib/python3.10/dist-packages (from google-auth<3,>=1.6.3->tensorboard<2.16,>=2.15->tensorflow~=2.15.0->tf-agents[reverb]) (0.3.0)\n",
            "Requirement already satisfied: rsa<5,>=3.1.4 in /usr/local/lib/python3.10/dist-packages (from google-auth<3,>=1.6.3->tensorboard<2.16,>=2.15->tensorflow~=2.15.0->tf-agents[reverb]) (4.9)\n",
            "Requirement already satisfied: requests-oauthlib>=0.7.0 in /usr/local/lib/python3.10/dist-packages (from google-auth-oauthlib<2,>=0.5->tensorboard<2.16,>=2.15->tensorflow~=2.15.0->tf-agents[reverb]) (1.3.1)\n",
            "Requirement already satisfied: charset-normalizer<4,>=2 in /usr/local/lib/python3.10/dist-packages (from requests<3,>=2.21.0->tensorboard<2.16,>=2.15->tensorflow~=2.15.0->tf-agents[reverb]) (3.3.2)\n",
            "Requirement already satisfied: idna<4,>=2.5 in /usr/local/lib/python3.10/dist-packages (from requests<3,>=2.21.0->tensorboard<2.16,>=2.15->tensorflow~=2.15.0->tf-agents[reverb]) (3.6)\n",
            "Requirement already satisfied: urllib3<3,>=1.21.1 in /usr/local/lib/python3.10/dist-packages (from requests<3,>=2.21.0->tensorboard<2.16,>=2.15->tensorflow~=2.15.0->tf-agents[reverb]) (2.0.7)\n",
            "Requirement already satisfied: certifi>=2017.4.17 in /usr/local/lib/python3.10/dist-packages (from requests<3,>=2.21.0->tensorboard<2.16,>=2.15->tensorflow~=2.15.0->tf-agents[reverb]) (2023.11.17)\n",
            "Requirement already satisfied: MarkupSafe>=2.1.1 in /usr/local/lib/python3.10/dist-packages (from werkzeug>=1.0.1->tensorboard<2.16,>=2.15->tensorflow~=2.15.0->tf-agents[reverb]) (2.1.3)\n",
            "Requirement already satisfied: pyasn1<0.6.0,>=0.4.6 in /usr/local/lib/python3.10/dist-packages (from pyasn1-modules>=0.2.1->google-auth<3,>=1.6.3->tensorboard<2.16,>=2.15->tensorflow~=2.15.0->tf-agents[reverb]) (0.5.1)\n",
            "Requirement already satisfied: oauthlib>=3.0.0 in /usr/local/lib/python3.10/dist-packages (from requests-oauthlib>=0.7.0->google-auth-oauthlib<2,>=0.5->tensorboard<2.16,>=2.15->tensorflow~=2.15.0->tf-agents[reverb]) (3.2.2)\n",
            "Building wheels for collected packages: gym\n",
            "  Building wheel for gym (pyproject.toml) ... \u001b[?25l\u001b[?25hdone\n",
            "  Created wheel for gym: filename=gym-0.23.0-py3-none-any.whl size=697630 sha256=9729fa1d3e9482a3fdbf8e93c29a47ba652937d0f3f80e5f987aff2f764f280b\n",
            "  Stored in directory: /root/.cache/pip/wheels/3d/6f/b4/3991d4fae11d0ecb0754c11cc1b4e7745012850da4efaaf0b1\n",
            "Successfully built gym\n",
            "Installing collected packages: tensorflow-probability, rlds, pygame, gym, tf-agents, dm-reverb\n",
            "  Attempting uninstall: tensorflow-probability\n",
            "    Found existing installation: tensorflow-probability 0.22.0\n",
            "    Uninstalling tensorflow-probability-0.22.0:\n",
            "      Successfully uninstalled tensorflow-probability-0.22.0\n",
            "  Attempting uninstall: pygame\n",
            "    Found existing installation: pygame 2.5.2\n",
            "    Uninstalling pygame-2.5.2:\n",
            "      Successfully uninstalled pygame-2.5.2\n",
            "  Attempting uninstall: gym\n",
            "    Found existing installation: gym 0.25.2\n",
            "    Uninstalling gym-0.25.2:\n",
            "      Successfully uninstalled gym-0.25.2\n",
            "Successfully installed dm-reverb-0.14.0 gym-0.23.0 pygame-2.1.3 rlds-0.1.8 tensorflow-probability-0.23.0 tf-agents-0.19.0\n",
            "Collecting pyglet\n",
            "  Downloading pyglet-2.0.10-py3-none-any.whl (858 kB)\n",
            "\u001b[2K     \u001b[90m━━━━━━━━━━━━━━━━━━━━━━━━━━━━━━━━━━━━━━━━\u001b[0m \u001b[32m858.3/858.3 kB\u001b[0m \u001b[31m7.4 MB/s\u001b[0m eta \u001b[36m0:00:00\u001b[0m\n",
            "\u001b[?25hCollecting xvfbwrapper\n",
            "  Downloading xvfbwrapper-0.2.9.tar.gz (5.6 kB)\n",
            "  Preparing metadata (setup.py) ... \u001b[?25l\u001b[?25hdone\n",
            "Building wheels for collected packages: xvfbwrapper\n",
            "  Building wheel for xvfbwrapper (setup.py) ... \u001b[?25l\u001b[?25hdone\n",
            "  Created wheel for xvfbwrapper: filename=xvfbwrapper-0.2.9-py3-none-any.whl size=5009 sha256=afd29a63de96f9897f5b945ef1ffc035bd6d714b4af89b35a9a729e3dbcdc0f8\n",
            "  Stored in directory: /root/.cache/pip/wheels/cb/10/7d/2b7fdffccf837f7d5425931575fbee9caebe2c190931f9058b\n",
            "Successfully built xvfbwrapper\n",
            "Installing collected packages: xvfbwrapper, pyglet\n",
            "Successfully installed pyglet-2.0.10 xvfbwrapper-0.2.9\n"
          ]
        }
      ]
    },
    {
      "cell_type": "code",
      "source": [
        "!pip install -q swig\n",
        "!pip install -q gymnasium[box2d]"
      ],
      "metadata": {
        "colab": {
          "base_uri": "https://localhost:8080/"
        },
        "id": "VouJ0jEEkWWG",
        "outputId": "8ba11989-6e01-483c-e4d1-9c426f9f8d75"
      },
      "execution_count": 4,
      "outputs": [
        {
          "output_type": "stream",
          "name": "stdout",
          "text": [
            "\u001b[2K     \u001b[90m━━━━━━━━━━━━━━━━━━━━━━━━━━━━━━━━━━━━━━━━\u001b[0m \u001b[32m1.8/1.8 MB\u001b[0m \u001b[31m7.3 MB/s\u001b[0m eta \u001b[36m0:00:00\u001b[0m\n",
            "\u001b[2K     \u001b[90m━━━━━━━━━━━━━━━━━━━━━━━━━━━━━━━━━━━━━━━━\u001b[0m \u001b[32m953.9/953.9 kB\u001b[0m \u001b[31m7.0 MB/s\u001b[0m eta \u001b[36m0:00:00\u001b[0m\n",
            "\u001b[2K     \u001b[90m━━━━━━━━━━━━━━━━━━━━━━━━━━━━━━━━━━━━━━━━\u001b[0m \u001b[32m374.4/374.4 kB\u001b[0m \u001b[31m11.0 MB/s\u001b[0m eta \u001b[36m0:00:00\u001b[0m\n",
            "\u001b[?25h  Preparing metadata (setup.py) ... \u001b[?25l\u001b[?25hdone\n",
            "  Building wheel for box2d-py (setup.py) ... \u001b[?25l\u001b[?25hdone\n"
          ]
        }
      ]
    },
    {
      "cell_type": "code",
      "source": [
        "pip install tf-agents\n"
      ],
      "metadata": {
        "colab": {
          "base_uri": "https://localhost:8080/"
        },
        "id": "VYjyHr08nZlj",
        "outputId": "dc33add7-34d1-41ad-9aea-a08ff4a3a3ee"
      },
      "execution_count": 5,
      "outputs": [
        {
          "output_type": "stream",
          "name": "stdout",
          "text": [
            "Requirement already satisfied: tf-agents in /usr/local/lib/python3.10/dist-packages (0.19.0)\n",
            "Requirement already satisfied: absl-py>=0.6.1 in /usr/local/lib/python3.10/dist-packages (from tf-agents) (1.4.0)\n",
            "Requirement already satisfied: cloudpickle>=1.3 in /usr/local/lib/python3.10/dist-packages (from tf-agents) (2.2.1)\n",
            "Requirement already satisfied: gin-config>=0.4.0 in /usr/local/lib/python3.10/dist-packages (from tf-agents) (0.5.0)\n",
            "Requirement already satisfied: gym<=0.23.0,>=0.17.0 in /usr/local/lib/python3.10/dist-packages (from tf-agents) (0.23.0)\n",
            "Requirement already satisfied: numpy>=1.19.0 in /usr/local/lib/python3.10/dist-packages (from tf-agents) (1.23.5)\n",
            "Requirement already satisfied: pillow in /usr/local/lib/python3.10/dist-packages (from tf-agents) (9.4.0)\n",
            "Requirement already satisfied: six>=1.10.0 in /usr/local/lib/python3.10/dist-packages (from tf-agents) (1.16.0)\n",
            "Requirement already satisfied: protobuf>=3.11.3 in /usr/local/lib/python3.10/dist-packages (from tf-agents) (3.20.3)\n",
            "Requirement already satisfied: wrapt>=1.11.1 in /usr/local/lib/python3.10/dist-packages (from tf-agents) (1.14.1)\n",
            "Requirement already satisfied: typing-extensions==4.5.0 in /usr/local/lib/python3.10/dist-packages (from tf-agents) (4.5.0)\n",
            "Requirement already satisfied: pygame==2.1.3 in /usr/local/lib/python3.10/dist-packages (from tf-agents) (2.1.3)\n",
            "Requirement already satisfied: tensorflow-probability~=0.23.0 in /usr/local/lib/python3.10/dist-packages (from tf-agents) (0.23.0)\n",
            "Requirement already satisfied: gym-notices>=0.0.4 in /usr/local/lib/python3.10/dist-packages (from gym<=0.23.0,>=0.17.0->tf-agents) (0.0.8)\n",
            "Requirement already satisfied: decorator in /usr/local/lib/python3.10/dist-packages (from tensorflow-probability~=0.23.0->tf-agents) (4.4.2)\n",
            "Requirement already satisfied: gast>=0.3.2 in /usr/local/lib/python3.10/dist-packages (from tensorflow-probability~=0.23.0->tf-agents) (0.5.4)\n",
            "Requirement already satisfied: dm-tree in /usr/local/lib/python3.10/dist-packages (from tensorflow-probability~=0.23.0->tf-agents) (0.1.8)\n"
          ]
        }
      ]
    },
    {
      "cell_type": "code",
      "source": [
        "from __future__ import absolute_import\n",
        "from __future__ import division\n",
        "from __future__ import print_function\n",
        "\n",
        "import base64\n",
        "import imageio\n",
        "import IPython\n",
        "import matplotlib.pyplot as plt\n",
        "import numpy as np\n",
        "import PIL.Image\n",
        "import pyvirtualdisplay\n",
        "import reverb\n",
        "\n",
        "import tensorflow as tf\n",
        "\n",
        "from tf_agents.agents.reinforce import reinforce_agent\n",
        "from tf_agents.drivers import py_driver\n",
        "from tf_agents.environments import suite_gym\n",
        "from tf_agents.environments import tf_py_environment\n",
        "from tf_agents.networks import actor_distribution_network\n",
        "from tf_agents.policies import py_tf_eager_policy\n",
        "from tf_agents.replay_buffers import reverb_replay_buffer\n",
        "from tf_agents.replay_buffers import reverb_utils\n",
        "from tf_agents.specs import tensor_spec\n",
        "from tf_agents.trajectories import trajectory\n",
        "from tf_agents.utils import common\n",
        "\n",
        "from tf_agents.agents.dqn import dqn_agent\n",
        "from tf_agents.drivers import py_driver\n",
        "from tf_agents.environments import suite_gym\n",
        "from tf_agents.environments import tf_py_environment\n",
        "from tf_agents.eval import metric_utils\n",
        "from tf_agents.metrics import tf_metrics\n",
        "from tf_agents.networks import sequential\n",
        "from tf_agents.policies import py_tf_eager_policy\n",
        "from tf_agents.policies import random_tf_policy\n",
        "from tf_agents.replay_buffers import reverb_replay_buffer\n",
        "from tf_agents.replay_buffers import reverb_utils\n",
        "from tf_agents.trajectories import trajectory\n",
        "from tf_agents.specs import tensor_spec\n",
        "from tf_agents.utils import common\n",
        "from tf_agents.agents.categorical_dqn import categorical_dqn_agent\n",
        "from tf_agents.networks import categorical_q_network\n",
        "\n",
        "from tf_agents.specs import tensor_spec\n",
        "from tf_agents.trajectories import time_step as ts\n",
        "\n",
        "from tf_agents.agents.dqn.dqn_agent import DqnAgent\n",
        "from tensorflow import keras\n",
        "from tensorflow.keras import optimizers\n",
        "from tensorflow.keras.optimizers import schedules\n",
        "from tensorflow.keras.optimizers.schedules import PolynomialDecay\n",
        "\n",
        "from tf_agents.replay_buffers import tf_uniform_replay_buffer\n",
        "from tf_agents.drivers.dynamic_step_driver import DynamicStepDriver\n",
        "from tf_agents.trajectories.trajectory import to_transition"
      ],
      "metadata": {
        "id": "cph7cQI6lGxr"
      },
      "execution_count": 6,
      "outputs": []
    },
    {
      "cell_type": "code",
      "source": [
        "display = pyvirtualdisplay.Display(visible = 0,size = (1400,900)).start()"
      ],
      "metadata": {
        "id": "Ook2bLo9mDjB"
      },
      "execution_count": 7,
      "outputs": []
    },
    {
      "cell_type": "code",
      "source": [
        "env = suite_gym.load(\"LunarLander-v2\")\n"
      ],
      "metadata": {
        "id": "Zg_nCNI6pFgJ"
      },
      "execution_count": 8,
      "outputs": []
    },
    {
      "cell_type": "code",
      "source": [
        "env.reset()\n",
        "PIL.Image.fromarray(env.render())"
      ],
      "metadata": {
        "colab": {
          "base_uri": "https://localhost:8080/",
          "height": 417
        },
        "id": "q573jj_XpNNM",
        "outputId": "bfadd784-194c-4b81-f2f1-43cfcdf187f0"
      },
      "execution_count": 9,
      "outputs": [
        {
          "output_type": "execute_result",
          "data": {
            "text/plain": [
              "<PIL.Image.Image image mode=RGB size=600x400>"
            ],
            "image/png": "[encoded data removed]"
          },
          "metadata": {},
          "execution_count": 9
        }
      ]
    },
    {
      "cell_type": "code",
      "source": [
        "from tf_agents.environments.tf_py_environment import TFPyEnvironment"
      ],
      "metadata": {
        "id": "ehG4fseFpecg"
      },
      "execution_count": 10,
      "outputs": []
    },
    {
      "cell_type": "code",
      "source": [
        "tf_env=TFPyEnvironment(env)"
      ],
      "metadata": {
        "id": "HWJNpJ4EpnMT"
      },
      "execution_count": 11,
      "outputs": []
    },
    {
      "cell_type": "code",
      "source": [
        "tf_env.reset()"
      ],
      "metadata": {
        "colab": {
          "base_uri": "https://localhost:8080/"
        },
        "id": "KKJ0Z0oGpu3T",
        "outputId": "64033445-45cd-46ef-999f-70899389729a"
      },
      "execution_count": 12,
      "outputs": [
        {
          "output_type": "execute_result",
          "data": {
            "text/plain": [
              "TimeStep(\n",
              "{'step_type': <tf.Tensor: shape=(1,), dtype=int32, numpy=array([0], dtype=int32)>,\n",
              " 'reward': <tf.Tensor: shape=(1,), dtype=float32, numpy=array([0.], dtype=float32)>,\n",
              " 'discount': <tf.Tensor: shape=(1,), dtype=float32, numpy=array([1.], dtype=float32)>,\n",
              " 'observation': <tf.Tensor: shape=(1, 8), dtype=float32, numpy=\n",
              "array([[ 0.0066802 ,  1.3992567 ,  0.67661554, -0.5183939 , -0.00773389,\n",
              "        -0.1532636 ,  0.        ,  0.        ]], dtype=float32)>})"
            ]
          },
          "metadata": {},
          "execution_count": 12
        }
      ]
    },
    {
      "cell_type": "code",
      "source": [
        "from tf_agents.networks.q_network import QNetwork"
      ],
      "metadata": {
        "id": "hE_WrhIapzMw"
      },
      "execution_count": 13,
      "outputs": []
    },
    {
      "cell_type": "code",
      "source": [
        "fc_layers_params = [512, 256]\n",
        "q_net = QNetwork(\n",
        "    tf_env.observation_spec(),\n",
        "    tf_env.action_spec(),\n",
        "    fc_layer_params=fc_layers_params\n",
        ")"
      ],
      "metadata": {
        "id": "HflWbMA9p8ym"
      },
      "execution_count": 14,
      "outputs": []
    },
    {
      "cell_type": "code",
      "source": [
        "train_step_counter = tf.Variable(0)\n",
        "update_period = 4\n",
        "optimizer1 = tf.compat.v1.train.AdamOptimizer(learning_rate=1e-3)\n",
        "epsilon_fn = keras.optimizers.schedules.PolynomialDecay(initial_learning_rate=0.07, decay_steps=25000, end_learning_rate=0.001)"
      ],
      "metadata": {
        "id": "saxSPgwAqQwT"
      },
      "execution_count": 15,
      "outputs": []
    },
    {
      "cell_type": "code",
      "source": [
        "agent = dqn_agent.DqnAgent(\n",
        "    tf_env.time_step_spec(),\n",
        "    tf_env.action_spec(),\n",
        "    q_network=q_net,\n",
        "    optimizer=optimizer1,\n",
        "    td_errors_loss_fn=common.element_wise_squared_loss,\n",
        "    gamma=0.95,\n",
        "    train_step_counter=train_step_counter,\n",
        "    epsilon_greedy = lambda: epsilon_fn(train_step_counter)\n",
        ")"
      ],
      "metadata": {
        "id": "J3RILLcKtCOT"
      },
      "execution_count": 16,
      "outputs": []
    },
    {
      "cell_type": "code",
      "source": [
        "from tf_agents.specs import tensor_spec\n",
        "from tf_agents.trajectories import time_step as ts"
      ],
      "metadata": {
        "id": "z7z695s-u-mc"
      },
      "execution_count": 17,
      "outputs": []
    },
    {
      "cell_type": "code",
      "source": [
        "random_policy = random_tf_policy.RandomTFPolicy(tf_env.time_step_spec(), tf_env.action_spec())\n"
      ],
      "metadata": {
        "id": "8r1Z7me6vWC0"
      },
      "execution_count": 18,
      "outputs": []
    },
    {
      "cell_type": "code",
      "source": [
        "from tf_agents.replay_buffers import tf_uniform_replay_buffer\n",
        "replay_buffer = tf_uniform_replay_buffer.TFUniformReplayBuffer(data_spec= agent.collect_data_spec, batch_size=tf_env.batch_size, max_length=2000)"
      ],
      "metadata": {
        "id": "o1TXlG4uvgpo"
      },
      "execution_count": 19,
      "outputs": []
    },
    {
      "cell_type": "code",
      "source": [
        "replay_buffer_observer = replay_buffer.add_batch"
      ],
      "metadata": {
        "id": "qW4AdrIZv0KG"
      },
      "execution_count": 20,
      "outputs": []
    },
    {
      "cell_type": "code",
      "source": [
        "from tf_agents.metrics import tf_metrics\n",
        "train_metrics  = [\n",
        "    tf_metrics.NumberOfEpisodes(),\n",
        "    tf_metrics.EnvironmentSteps(),\n",
        "    tf_metrics.AverageReturnMetric(),\n",
        "    tf_metrics.AverageEpisodeLengthMetric()\n",
        "]"
      ],
      "metadata": {
        "id": "xL_1Hm6gwMMb"
      },
      "execution_count": 21,
      "outputs": []
    },
    {
      "cell_type": "code",
      "source": [
        "from tf_agents.eval.metric_utils import log_metrics\n",
        "import logging\n",
        "logging.getLogger().setLevel(logging.INFO)\n",
        "log_metrics(train_metrics)"
      ],
      "metadata": {
        "colab": {
          "base_uri": "https://localhost:8080/"
        },
        "id": "FcTKQyWnwm83",
        "outputId": "e83255db-110c-4b95-e0bd-3845ed63ac60"
      },
      "execution_count": 22,
      "outputs": [
        {
          "output_type": "stream",
          "name": "stderr",
          "text": [
            "INFO:absl: \n",
            "\t\t NumberOfEpisodes = 0\n",
            "\t\t EnvironmentSteps = 0\n",
            "\t\t AverageReturn = 0.0\n",
            "\t\t AverageEpisodeLength = 0.0\n"
          ]
        }
      ]
    },
    {
      "cell_type": "code",
      "source": [
        "from tf_agents.drivers.dynamic_step_driver import DynamicStepDriver\n",
        "collect_driver  = DynamicStepDriver(\n",
        "    tf_env,\n",
        "    agent.collect_policy,\n",
        "    observers = [replay_buffer_observer] + train_metrics,\n",
        "    num_steps = update_period\n",
        ")\n"
      ],
      "metadata": {
        "id": "goSkVQuBxdhw"
      },
      "execution_count": 23,
      "outputs": []
    },
    {
      "cell_type": "code",
      "source": [
        "from tf_agents.trajectories.trajectory import to_transition\n",
        "dataset = replay_buffer.as_dataset(\n",
        "    sample_batch_size= 64,\n",
        "    num_steps=2,\n",
        "    num_parallel_calls = 3\n",
        ").prefetch(3)"
      ],
      "metadata": {
        "colab": {
          "base_uri": "https://localhost:8080/"
        },
        "id": "XccfugBf0jzv",
        "outputId": "07c4e8c3-482b-4236-b7ed-7d7cc822bf67"
      },
      "execution_count": 24,
      "outputs": [
        {
          "output_type": "stream",
          "name": "stderr",
          "text": [
            "WARNING:tensorflow:From /usr/local/lib/python3.10/dist-packages/tensorflow/python/autograph/impl/api.py:377: ReplayBuffer.get_next (from tf_agents.replay_buffers.replay_buffer) is deprecated and will be removed in a future version.\n",
            "Instructions for updating:\n",
            "Use `as_dataset(..., single_deterministic_pass=False) instead.\n"
          ]
        }
      ]
    },
    {
      "cell_type": "code",
      "source": [
        "def trainAgent(n):\n",
        "  time_steps = None\n",
        "  policy_state = agent.collect_policy.get_initial_state(tf_env.batch_size)\n",
        "  i = iter(dataset)\n",
        "  for j in range(n):\n",
        "    time_steps, policy_state = collect_driver.run(time_steps, policy_state)\n",
        "    trajectories, buffer_info = next(i)\n",
        "    train_loss = agent.train(trajectories)\n",
        "\n",
        "    if j%100 == 0:\n",
        "      log_metrics(train_metrics)\n"
      ],
      "metadata": {
        "id": "QhPuJva52Rcw"
      },
      "execution_count": 25,
      "outputs": []
    },
    {
      "cell_type": "code",
      "source": [
        "import matplotlib as mpl\n",
        "mpl.rc('animation', html='jshtml')"
      ],
      "metadata": {
        "id": "b1Gu7Cfx4ztl"
      },
      "execution_count": 26,
      "outputs": []
    },
    {
      "cell_type": "code",
      "source": [
        "import matplotlib.pyplot as plt\n",
        "import matplotlib.animation as animation\n",
        "def update_scene(num, frames, patch):\n",
        "  patch.set_data(frames[num])\n",
        "  return patch,\n",
        "\n",
        "def plot_animation(frames, repeat = False, interval = 35):\n",
        "  fig = plt.figure()\n",
        "  patch= plt.imshow(frames[0])\n",
        "  plt.axis('off')\n",
        "  anim = animation.FuncAnimation(\n",
        "      fig, update_scene, fargs = (frames, patch),\n",
        "      frames = len(frames), repeat = repeat, interval = interval)\n",
        "  return anim\n"
      ],
      "metadata": {
        "id": "scGOUByg5SH8"
      },
      "execution_count": 27,
      "outputs": []
    },
    {
      "cell_type": "code",
      "source": [
        "frames =[]\n",
        "def save_frames(trajectory):\n",
        "  global frames\n",
        "  frames.append(tf_env.envs[0].render(mode = \"rgb_array\"))"
      ],
      "metadata": {
        "id": "O5o_ZNKT68RE"
      },
      "execution_count": 28,
      "outputs": []
    },
    {
      "cell_type": "code",
      "source": [
        "class showProgress:\n",
        "  def __init__(self, total):\n",
        "    self.counter = 0\n",
        "    self.total  = total\n",
        "  def __call__(self, trajectory):\n",
        "    if not trajectory.is_boundary():\n",
        "      self.counter += 1\n",
        "    if self.counter % 100 == 0:\n",
        "      print(\"\\r{}/{}\".format(self.counter, self.total), end =\"\")"
      ],
      "metadata": {
        "id": "GDhyBpq-Gzjs"
      },
      "execution_count": 29,
      "outputs": []
    },
    {
      "cell_type": "code",
      "source": [
        "watch_driver = DynamicStepDriver(\n",
        "    tf_env,\n",
        "    agent.policy,\n",
        "    observers = [save_frames, showProgress(1000)]\n",
        ")"
      ],
      "metadata": {
        "id": "ULM0VpngHkD9"
      },
      "execution_count": 30,
      "outputs": []
    },
    {
      "cell_type": "code",
      "source": [
        "trainAgent(1000)"
      ],
      "metadata": {
        "colab": {
          "base_uri": "https://localhost:8080/"
        },
        "id": "_Dle4xwhKreL",
        "outputId": "f35a85d9-5bd1-4573-f734-82fce7a34ee4"
      },
      "execution_count": 37,
      "outputs": [
        {
          "output_type": "stream",
          "name": "stderr",
          "text": [
            "INFO:absl: \n",
            "\t\t NumberOfEpisodes = 44\n",
            "\t\t EnvironmentSteps = 19443\n",
            "\t\t AverageReturn = -136.06686401367188\n",
            "\t\t AverageEpisodeLength = 869.7999877929688\n",
            "INFO:absl: \n",
            "\t\t NumberOfEpisodes = 44\n",
            "\t\t EnvironmentSteps = 19843\n",
            "\t\t AverageReturn = -136.06686401367188\n",
            "\t\t AverageEpisodeLength = 869.7999877929688\n",
            "INFO:absl: \n",
            "\t\t NumberOfEpisodes = 44\n",
            "\t\t EnvironmentSteps = 20243\n",
            "\t\t AverageReturn = -136.06686401367188\n",
            "\t\t AverageEpisodeLength = 869.7999877929688\n",
            "INFO:absl: \n",
            "\t\t NumberOfEpisodes = 45\n",
            "\t\t EnvironmentSteps = 20643\n",
            "\t\t AverageReturn = -139.77999877929688\n",
            "\t\t AverageEpisodeLength = 903.2999877929688\n",
            "INFO:absl: \n",
            "\t\t NumberOfEpisodes = 45\n",
            "\t\t EnvironmentSteps = 21043\n",
            "\t\t AverageReturn = -139.77999877929688\n",
            "\t\t AverageEpisodeLength = 903.2999877929688\n",
            "INFO:absl: \n",
            "\t\t NumberOfEpisodes = 46\n",
            "\t\t EnvironmentSteps = 21443\n",
            "\t\t AverageReturn = -143.0803985595703\n",
            "\t\t AverageEpisodeLength = 903.2999877929688\n",
            "INFO:absl: \n",
            "\t\t NumberOfEpisodes = 46\n",
            "\t\t EnvironmentSteps = 21843\n",
            "\t\t AverageReturn = -143.0803985595703\n",
            "\t\t AverageEpisodeLength = 903.2999877929688\n",
            "INFO:absl: \n",
            "\t\t NumberOfEpisodes = 46\n",
            "\t\t EnvironmentSteps = 22243\n",
            "\t\t AverageReturn = -143.0803985595703\n",
            "\t\t AverageEpisodeLength = 903.2999877929688\n",
            "INFO:absl: \n",
            "\t\t NumberOfEpisodes = 47\n",
            "\t\t EnvironmentSteps = 22643\n",
            "\t\t AverageReturn = -152.6833038330078\n",
            "\t\t AverageEpisodeLength = 903.2999877929688\n",
            "INFO:absl: \n",
            "\t\t NumberOfEpisodes = 47\n",
            "\t\t EnvironmentSteps = 23043\n",
            "\t\t AverageReturn = -152.6833038330078\n",
            "\t\t AverageEpisodeLength = 903.2999877929688\n"
          ]
        }
      ]
    },
    {
      "cell_type": "code",
      "source": [
        "frames = []\n",
        "watch_driver.run(time_step=tf_env.reset())\n"
      ],
      "metadata": {
        "colab": {
          "base_uri": "https://localhost:8080/"
        },
        "id": "t-BJ0d-eLRhn",
        "outputId": "007562fc-1e2e-4fda-c06a-d3509e4d6d96"
      },
      "execution_count": 38,
      "outputs": [
        {
          "output_type": "execute_result",
          "data": {
            "text/plain": [
              "(TimeStep(\n",
              " {'step_type': <tf.Tensor: shape=(1,), dtype=int32, numpy=array([1], dtype=int32)>,\n",
              "  'reward': <tf.Tensor: shape=(1,), dtype=float32, numpy=array([0.08367945], dtype=float32)>,\n",
              "  'discount': <tf.Tensor: shape=(1,), dtype=float32, numpy=array([1.], dtype=float32)>,\n",
              "  'observation': <tf.Tensor: shape=(1, 8), dtype=float32, numpy=\n",
              " array([[-0.00859718,  1.4015888 , -0.42844254, -0.22033285,  0.00782067,\n",
              "          0.05568396,  0.        ,  0.        ]], dtype=float32)>}),\n",
              " ())"
            ]
          },
          "metadata": {},
          "execution_count": 38
        }
      ]
    },
    {
      "cell_type": "code",
      "source": [
        "plot_animation(frames)"
      ],
      "metadata": {
        "colab": {
          "base_uri": "https://localhost:8080/",
          "height": 946
        },
        "id": "U14pvD4VOC3r",
        "outputId": "60ebf701-f172-4ccf-db53-ba000ce0ad43"
      },
      "execution_count": 39,
      "outputs": [
        {
          "output_type": "stream",
          "name": "stderr",
          "text": [
            "INFO:matplotlib.animation:Animation.save using <class 'matplotlib.animation.HTMLWriter'>\n"
          ]
        },
        {
          "output_type": "execute_result",
          "data": {
            "text/plain": [
              "<matplotlib.animation.FuncAnimation at 0x79c2dc6d0fd0>"
            ],
            "text/html": [
              "\n",
              "<link rel=\"stylesheet\"\n",
              "href=\"https://maxcdn.bootstrapcdn.com/font-awesome/4.4.0/css/font-awesome.min.css\">\n",
              "<script language=\"javascript\">\n",
              "  function isInternetExplorer() {\n",
              "    ua = navigator.userAgent;\n",
              "    /* MSIE used to detect old browsers and Trident used to newer ones*/\n",
              "    return ua.indexOf(\"MSIE \") > -1 || ua.indexOf(\"Trident/\") > -1;\n",
              "  }\n",
              "\n",
              "  /* Define the Animation class */\n",
              "  function Animation(frames, img_id, slider_id, interval, loop_select_id){\n",
              "    this.img_id = img_id;\n",
              "    this.slider_id = slider_id;\n",
              "    this.loop_select_id = loop_select_id;\n",
              "    this.interval = interval;\n",
              "    this.current_frame = 0;\n",
              "    this.direction = 0;\n",
              "    this.timer = null;\n",
              "    this.frames = new Array(frames.length);\n",
              "\n",
              "    for (var i=0; i<frames.length; i++)\n",
              "    {\n",
              "     this.frames[i] = new Image();\n",
              "     this.frames[i].src = frames[i];\n",
              "    }\n",
              "    var slider = document.getElementById(this.slider_id);\n",
              "    slider.max = this.frames.length - 1;\n",
              "    if (isInternetExplorer()) {\n",
              "        // switch from oninput to onchange because IE <= 11 does not conform\n",
              "        // with W3C specification. It ignores oninput and onchange behaves\n",
              "        // like oninput. In contrast, Microsoft Edge behaves correctly.\n",
              "        slider.setAttribute('onchange', slider.getAttribute('oninput'));\n",
              "        slider.setAttribute('oninput', null);\n",
              "    }\n",
              "    this.set_frame(this.current_frame);\n",
              "  }\n",
              "\n",
              "  Animation.prototype.get_loop_state = function(){\n",
              "    var button_group = document[this.loop_select_id].state;\n",
              "    for (var i = 0; i < button_group.length; i++) {\n",
              "        var button = button_group[i];\n",
              "        if (button.checked) {\n",
              "            return button.value;\n",
              "        }\n",
              "    }\n",
              "    return undefined;\n",
              "  }\n",
              "\n",
              "  Animation.prototype.set_frame = function(frame){\n",
              "    this.current_frame = frame;\n",
              "    document.getElementById(this.img_id).src =\n",
              "            this.frames[this.current_frame].src;\n",
              "    document.getElementById(this.slider_id).value = this.current_frame;\n",
              "  }\n",
              "\n",
              "  Animation.prototype.next_frame = function()\n",
              "  {\n",
              "    this.set_frame(Math.min(this.frames.length - 1, this.current_frame + 1));\n",
              "  }\n",
              "\n",
              "  Animation.prototype.previous_frame = function()\n",
              "  {\n",
              "    this.set_frame(Math.max(0, this.current_frame - 1));\n",
              "  }\n",
              "\n",
              "  Animation.prototype.first_frame = function()\n",
              "  {\n",
              "    this.set_frame(0);\n",
              "  }\n",
              "\n",
              "  Animation.prototype.last_frame = function()\n",
              "  {\n",
              "    this.set_frame(this.frames.length - 1);\n",
              "  }\n",
              "\n",
              "  Animation.prototype.slower = function()\n",
              "  {\n",
              "    this.interval /= 0.7;\n",
              "    if(this.direction > 0){this.play_animation();}\n",
              "    else if(this.direction < 0){this.reverse_animation();}\n",
              "  }\n",
              "\n",
              "  Animation.prototype.faster = function()\n",
              "  {\n",
              "    this.interval *= 0.7;\n",
              "    if(this.direction > 0){this.play_animation();}\n",
              "    else if(this.direction < 0){this.reverse_animation();}\n",
              "  }\n",
              "\n",
              "  Animation.prototype.anim_step_forward = function()\n",
              "  {\n",
              "    this.current_frame += 1;\n",
              "    if(this.current_frame < this.frames.length){\n",
              "      this.set_frame(this.current_frame);\n",
              "    }else{\n",
              "      var loop_state = this.get_loop_state();\n",
              "      if(loop_state == \"loop\"){\n",
              "        this.first_frame();\n",
              "      }else if(loop_state == \"reflect\"){\n",
              "        this.last_frame();\n",
              "        this.reverse_animation();\n",
              "      }else{\n",
              "        this.pause_animation();\n",
              "        this.last_frame();\n",
              "      }\n",
              "    }\n",
              "  }\n",
              "\n",
              "  Animation.prototype.anim_step_reverse = function()\n",
              "  {\n",
              "    this.current_frame -= 1;\n",
              "    if(this.current_frame >= 0){\n",
              "      this.set_frame(this.current_frame);\n",
              "    }else{\n",
              "      var loop_state = this.get_loop_state();\n",
              "      if(loop_state == \"loop\"){\n",
              "        this.last_frame();\n",
              "      }else if(loop_state == \"reflect\"){\n",
              "        this.first_frame();\n",
              "        this.play_animation();\n",
              "      }else{\n",
              "        this.pause_animation();\n",
              "        this.first_frame();\n",
              "      }\n",
              "    }\n",
              "  }\n",
              "\n",
              "  Animation.prototype.pause_animation = function()\n",
              "  {\n",
              "    this.direction = 0;\n",
              "    if (this.timer){\n",
              "      clearInterval(this.timer);\n",
              "      this.timer = null;\n",
              "    }\n",
              "  }\n",
              "\n",
              "  Animation.prototype.play_animation = function()\n",
              "  {\n",
              "    this.pause_animation();\n",
              "    this.direction = 1;\n",
              "    var t = this;\n",
              "    if (!this.timer) this.timer = setInterval(function() {\n",
              "        t.anim_step_forward();\n",
              "    }, this.interval);\n",
              "  }\n",
              "\n",
              "  Animation.prototype.reverse_animation = function()\n",
              "  {\n",
              "    this.pause_animation();\n",
              "    this.direction = -1;\n",
              "    var t = this;\n",
              "    if (!this.timer) this.timer = setInterval(function() {\n",
              "        t.anim_step_reverse();\n",
              "    }, this.interval);\n",
              "  }\n",
              "</script>\n",
              "\n",
              "<style>\n",
              ".animation {\n",
              "    display: inline-block;\n",
              "    text-align: center;\n",
              "}\n",
              "input[type=range].anim-slider {\n",
              "    width: 374px;\n",
              "    margin-left: auto;\n",
              "    margin-right: auto;\n",
              "}\n",
              ".anim-buttons {\n",
              "    margin: 8px 0px;\n",
              "}\n",
              ".anim-buttons button {\n",
              "    padding: 0;\n",
              "    width: 36px;\n",
              "}\n",
              ".anim-state label {\n",
              "    margin-right: 8px;\n",
              "}\n",
              ".anim-state input {\n",
              "    margin: 0;\n",
              "    vertical-align: middle;\n",
              "}\n",
              "</style>\n",
              "\n",
              "<div class=\"animation\">\n",
              "  <img id=\"_anim_img27a3b09a2bd04196bb22c5ababe4fa6e\">\n",
              "  <div class=\"anim-controls\">\n",
              "    <input id=\"_anim_slider27a3b09a2bd04196bb22c5ababe4fa6e\" type=\"range\" class=\"anim-slider\"\n",
              "           name=\"points\" min=\"0\" max=\"1\" step=\"1\" value=\"0\"\n",
              "           oninput=\"anim27a3b09a2bd04196bb22c5ababe4fa6e.set_frame(parseInt(this.value));\">\n",
              "    <div class=\"anim-buttons\">\n",
              "      <button title=\"Decrease speed\" aria-label=\"Decrease speed\" onclick=\"anim27a3b09a2bd04196bb22c5ababe4fa6e.slower()\">\n",
              "          <i class=\"fa fa-minus\"></i></button>\n",
              "      <button title=\"First frame\" aria-label=\"First frame\" onclick=\"anim27a3b09a2bd04196bb22c5ababe4fa6e.first_frame()\">\n",
              "        <i class=\"fa fa-fast-backward\"></i></button>\n",
              "      <button title=\"Previous frame\" aria-label=\"Previous frame\" onclick=\"anim27a3b09a2bd04196bb22c5ababe4fa6e.previous_frame()\">\n",
              "          <i class=\"fa fa-step-backward\"></i></button>\n",
              "      <button title=\"Play backwards\" aria-label=\"Play backwards\" onclick=\"anim27a3b09a2bd04196bb22c5ababe4fa6e.reverse_animation()\">\n",
              "          <i class=\"fa fa-play fa-flip-horizontal\"></i></button>\n",
              "      <button title=\"Pause\" aria-label=\"Pause\" onclick=\"anim27a3b09a2bd04196bb22c5ababe4fa6e.pause_animation()\">\n",
              "          <i class=\"fa fa-pause\"></i></button>\n",
              "      <button title=\"Play\" aria-label=\"Play\" onclick=\"anim27a3b09a2bd04196bb22c5ababe4fa6e.play_animation()\">\n",
              "          <i class=\"fa fa-play\"></i></button>\n",
              "      <button title=\"Next frame\" aria-label=\"Next frame\" onclick=\"anim27a3b09a2bd04196bb22c5ababe4fa6e.next_frame()\">\n",
              "          <i class=\"fa fa-step-forward\"></i></button>\n",
              "      <button title=\"Last frame\" aria-label=\"Last frame\" onclick=\"anim27a3b09a2bd04196bb22c5ababe4fa6e.last_frame()\">\n",
              "          <i class=\"fa fa-fast-forward\"></i></button>\n",
              "      <button title=\"Increase speed\" aria-label=\"Increase speed\" onclick=\"anim27a3b09a2bd04196bb22c5ababe4fa6e.faster()\">\n",
              "          <i class=\"fa fa-plus\"></i></button>\n",
              "    </div>\n",
              "    <form title=\"Repetition mode\" aria-label=\"Repetition mode\" action=\"#n\" name=\"_anim_loop_select27a3b09a2bd04196bb22c5ababe4fa6e\"\n",
              "          class=\"anim-state\">\n",
              "      <input type=\"radio\" name=\"state\" value=\"once\" id=\"_anim_radio1_27a3b09a2bd04196bb22c5ababe4fa6e\"\n",
              "             checked>\n",
              "      <label for=\"_anim_radio1_27a3b09a2bd04196bb22c5ababe4fa6e\">Once</label>\n",
              "      <input type=\"radio\" name=\"state\" value=\"loop\" id=\"_anim_radio2_27a3b09a2bd04196bb22c5ababe4fa6e\"\n",
              "             >\n",
              "      <label for=\"_anim_radio2_27a3b09a2bd04196bb22c5ababe4fa6e\">Loop</label>\n",
              "      <input type=\"radio\" name=\"state\" value=\"reflect\" id=\"_anim_radio3_27a3b09a2bd04196bb22c5ababe4fa6e\"\n",
              "             >\n",
              "      <label for=\"_anim_radio3_27a3b09a2bd04196bb22c5ababe4fa6e\">Reflect</label>\n",
              "    </form>\n",
              "  </div>\n",
              "</div>\n",
              "\n",
              "\n",
              "<script language=\"javascript\">\n",
              "  /* Instantiate the Animation class. */\n",
              "  /* The IDs given should match those used in the template above. */\n",
              "  (function() {\n",
              "    var img_id = \"_anim_img27a3b09a2bd04196bb22c5ababe4fa6e\";\n",
              "    var slider_id = \"_anim_slider27a3b09a2bd04196bb22c5ababe4fa6e\";\n",
              "    var loop_select_id = \"_anim_loop_select27a3b09a2bd04196bb22c5ababe4fa6e\";\n",
              "    var frames = new Array(1);\n",
              "    \n",
              "  frames[0] = \"data:image/png;base64,iVBORw0KGgoAAAANSUhEUgAAAoAAAAHgCAYAAAA10dzkAAAAOXRFWHRTb2Z0d2FyZQBNYXRwbG90\\\n",
              "bGliIHZlcnNpb24zLjcuMSwgaHR0cHM6Ly9tYXRwbG90bGliLm9yZy/bCgiHAAAACXBIWXMAAA9h\\\n",
              "AAAPYQGoP6dpAAAhQElEQVR4nO3de5DddX3/8dc5Z6/Z3SS7yea+2ZALl9zIhUvIFQgqqICgKXih\\\n",
              "+KvTmU7765Rpq62tMi3jr/Obto4tOv76a/n9/KmgA1jlB3WKWFusoOAvXEQUuRgIqRDQJNxyz+75\\\n",
              "/bEmGrVe2GRPNp/HY+bMnj17ds97c5LdZz7fy6nU6/V6AAAoRrXRAwAAMLIEIABAYQQgAEBhBCAA\\\n",
              "QGEEIABAYQQgAEBhBCAAQGEEIABAYQQgAEBhBCAAQGEEIABAYQQgAEBhBCAAQGEEIABAYQQgAEBh\\\n",
              "BCAAQGEEIABAYQQgAEBhBCAAQGEEIABAYQQgAEBhBCAAQGEEIABAYQQgAEBhBCAAQGEEIABAYQQg\\\n",
              "AEBhBCAAQGEEIABAYQQgAEBhBCAAQGEEIABAYQQgAEBhBCAAQGEEIABAYQQgAEBhBCAAQGEEIABA\\\n",
              "YQQgAEBhBCAAQGEEIABAYQQgAEBhBCAAQGEEIABAYQQgAEBhBCAAQGEEIABAYQQgAEBhBCAAQGEE\\\n",
              "IABAYQQgAEBhBCAAQGEEIABAYQQgAEBhBCAAQGEEIABAYQQgAEBhBCAAQGEEIABAYQQgAEBhBCAA\\\n",
              "QGEEIABAYQQgAEBhBCAAQGEEIABAYQQgAEBhBCAAQGEEIABAYQQgAEBhBCAAQGEEIABAYQQgAEBh\\\n",
              "BCAAQGEEIABAYQQgAEBhBCAAQGGaGj3AaFepVBo9AhSrUqlmVv+ZWbzwwrzwwjP59qNfyEsvbc3e\\\n",
              "vS/njFN/PQtOekNmjD0ztWrLUZ9lx+4nc893/mce+MZncuDA/syYdmoWz78oMyacnudefji3f+m/\\\n",
              "ZffuF476HMAvp16vN3qEhhKAwKi1cO7FOX3Z29M75uSkN5kwflY2P3tv7rvv5uwf3J2knmRk/pNW\\\n",
              "rTSnuWlMKpVqmppactqSyzNrwrqMbZ2ejpbezD9lYx548DMZHBwYkXkAfh6bgIFRqpK1p//XNFVb\\\n",
              "0t7ck7am8Wlv7c7mzfclSZqqbWmpdY3YKn21Usvggf2p1wczcGB/Nm/emN37t2ewPpDOlqk5ceZr\\\n",
              "MmHC7BGZBeAXEYDAqPTGNf892/c8kd4x85MkL+79j3xn0x35wQ82JUkqB1f+RmorT6UydEkyMLgv\\\n",
              "W565Pzte2Zw9B15MkswYf3rmnrA6zc3tIzQQwH9OAAKjTrXalPaujnS3z05zbUwGBvfn+VcezqOP\\\n",
              "felHd6pUktRTH6ECrOTwfYJ3vPgfeXzzndm577nUM5D2pu7Mm/6aTJo0d0TmAfh5BCAw6rxhzV+k\\\n",
              "pb0tE8ecnHq9nhf3Pp2HH70tu/e8eNj9RnYX70p+/Efq/gO7sv0HT2XrCw9n38ArqVRqmTJ+YebM\\\n",
              "XJu2tq4RnQzgJwlAYFSZMH5OBpv2ZOKYk1NJNQcG9+TZHQ9lyzP3Z2Bgf0NnG9rs/KNVwGeefyjb\\\n",
              "tz+dbbseT5K0NY3P3BnnZOKEOc4gADSUAARGje6xs3Leivdmau+idLZMSZLs3PdcHt/8pbz00nOH\\\n",
              "3XcoxkZ4DfAnom7v/lfyvWceyou7/iO7929LtdKU3s5Tsujki+wLCDSU08AAo0bXmN5MmDAzTdUx\\\n",
              "aaq2ZaC+L5t/cE+e/t59GRjYd9h96/V6DgzszZ6BF1MdqOWw/QHrB68fvKX+w9ty+P0OXq//6CMH\\\n",
              "o3LoHGI/+hp7DryQSq2SavXw/1c/+b27svjES/LMK/dnbs9r09Y0Lv2Tz8q0qYvy1OZ7j/ifEcAv\\\n",
              "QwACo0J76/hcet6Hs/PAcxnX2p+kkp17n8/Tz92b7duf/qn77xvYmR27nsyLu7f8cGWucmgT7dBC\\\n",
              "3Y/d9sP3D308h79/8OjeH9/EW6lUDnt/sH4ge/a+/FPn+dt/YHe+8eg/Zs2K38oLu5/K+PZZ6R2z\\\n",
              "IIsXXpint2x0XkCgIQQgMCpM6jk5++ovp6XWlZZaZwbrB7J521fy2OP/lp+1qffBhz+TBx/+zMgP\\\n",
              "+jM88fS/ZcWid2V7fVO6WqelWmnOjHFn5qSTzs1jj93Z8H0XgfLYBxAYFS5d/+Hs2LMpTdXW1DOQ\\\n",
              "F/Y8le9uuTsvv/x8o0f7heoZzNcf/j9pb+rJ9t3fzSv7ns1gDuTE/vWpVv0/HBh5fvIAo8KX7v2L\\\n",
              "nNB/Vna3bM+ul3+QbTu/m8ce/9dGj/VL2/Lcxmzb9lTautqzr7knzz73rTy26Us5cGBvo0cDClSp\\\n",
              "l/5qyMPkVA4wUioZ2zk1fZOXZcHJb8gT3/u3PPCNm0fNC7pXKtXMn/3GnHrym3PPQ/8r39/2aF7e\\\n",
              "9dwv/kTgqBgtPzuOFgE4TAIQRlalUk2t2pzB+oFRdwBFpVJLrdqUAwP7MtKnqAEOV3r+CMBhEoAA\\\n",
              "MPqUnj8OAgEAKIwABAAojAAEACiMAAQAKIwABAAojAAEACiMAAQAKIwABAAojAAEACiMAAQAKIwA\\\n",
              "BAAojAAEACiMAAQAKIwABAAojAAEACiMAAQAKIwABAAojAAEACiMAAQAKIwABAAojAAEACiMAAQA\\\n",
              "KIwABAAojAAEACiMAAQAKIwABAAojAAEACiMAAQAKIwABAAojAAEACiMAAQAKIwABAAojAAEACiM\\\n",
              "AAQAKIwABAAojAAEACiMAAQAKIwABAAojAAEACiMAAQAKIwABAAojAAEACiMAAQAKIwABAAojAAE\\\n",
              "ACiMAAQAKIwABAAojAAEACiMAAQAKIwABAAojAAEACiMAAQAKIwABAAojAAEACiMAAQAKIwABAAo\\\n",
              "jAAEACiMAAQAKIwABAAojAAEACiMAAQAKIwABAAojAAEACiMAAQAKIwABAAojAAEACiMAAQAKIwA\\\n",
              "BAAojAAEACiMAAQAKIwABAAojAAEACiMAAQAKIwABAAojAAEACiMAAQAKIwABAAojAAEACiMAAQA\\\n",
              "KIwABAAojAAEACiMAAQAKIwABAAojAAEACiMAAQAKIwABAAojAAEACiMAAQAKIwABAAojAAEACiM\\\n",
              "AAQAKIwABAAojAAEACiMAAQAKIwABAAojAAEACiMAAQAKIwABAAojAAEACiMAAQAKIwABAAojAAE\\\n",
              "ACiMAAQAKIwABAAojAAEACiMAAQAKIwABAAojAAEACiMAAQAKIwABAAojAAEACiMAAQAKIwABAAo\\\n",
              "jAAEACiMAAQAKIwABAAojAAEACiMAAQAKIwABAAojAAEACiMAAQAKIwABAAojAAEACiMAAQAKIwA\\\n",
              "BAAojAAEACiMAAQAKIwABAAojAAEACiMAAQAKIwABAAojAAEACiMAAQAKIwABAAojAAEACiMAAQA\\\n",
              "KIwABAAojAAEACiMAAQAKIwABAAojAAEACiMAAQAKIwABAAojAAEACiMAAQAKIwABAAojAAEACiM\\\n",
              "AAQAKIwABAAojAAEACiMAAQAKIwABAAojAAEACiMAAQAKIwABAAojAAEACiMAAQAKIwABAAojAAE\\\n",
              "ACiMAAQAKIwABAAojAAEACiMAAQAKIwABAAojAAEACiMAAQAKIwABAAojAAEACiMAAQAKIwABAAo\\\n",
              "jAAEACiMAAQAKIwABAAojAAEACiMAAQAKIwABAAojAAEACiMAAQAKIwABAAojAAEACiMAAQAKIwA\\\n",
              "BAAojAAEACiMAAQAKIwABAAojAAEACiMAAQAKIwABAAojAAEACiMAAQAKExTowcAjj9/8ifJ61+f\\\n",
              "7N2bbN6cfOYzyb33JvV6MjiY7N499DGOvje8IXnve5MDB5Lnnktuvz259dahjw0ODj0Pu3Y1dkZg\\\n",
              "5AlA4Ihrakra2oYuixcPXer1oQh5/vnkzjuTu+8eum3fvuT730+eeabRUx+farWh5yFJOjuT3/md\\\n",
              "5Ld/OxkYSF58Mfl//28oCOv1ZP/+5IUXkqeeauTEwEgQgMCIqFSS5uZk+vTk7W9P3va2oRWoV15J\\\n",
              "Hnkk2bjxR6uDmzcnX/96oyc+flUqQ5E+YUJy/vnJ6143FIC7dg392d9559BzsWdP8uyzyde+NhSH\\\n",
              "wPFDAAINUakMrU6NG5esWJGceebhK4KPPTYUITt3Dl3/x38cWrXiyKtUhi6dncmCBcn8+UO379+f\\\n",
              "bN+ePPro0PXdu4dWB2+9Ndmxo6EjA8MkAIFjwsEIaWtL+vqSGTOGbh8YGFqJuuCC5L/8l8bOWIpK\\\n",
              "ZehtS0syZUoyefLQ+wf3GbzkkqFV3J07GzcjMDwCEDgm1OtDbw9uBn7xxaHrL72UPPhg8j/+R0PH\\\n",
              "K8qPPxd79w49FwMDQ8H3yCPJ//7f4g9GOwEINES9PnTZuzfZujV5+umhyHj55eShh5L/+38bPWE5\\\n",
              "Dj4XBzf5/vjm98cfHzqK21HbcHwRgMCIOHgKmBdeSL75zeTb3z58H79vfKPRE5bj4HOxc2fyxBND\\\n",
              "p+g5uPK6ZcvQEdrA8U0AAkfFwRWlZ55JvvjFoVW9en0oMrZuHTonHSOjXh9aXd22bSjuDh7lu29f\\\n",
              "8oMfDK2+AmURgMARN2PGX+fd7/5f+da3HsmBA0MrTfv2NXqqMnV3X5ZPf7o5n/zk9RkYGArw3bsb\\\n",
              "PRXQaAIQOOKamnqyY0dLvv/9Rk9CtTomO3d6LoDDeS1gAIDCCEAAgMIIQACAwghAAIDCCEAAgMII\\\n",
              "QACAwghAAIDCCEAAgMIIQACAwghAAIDCCEAAgMIIQACAwghAAIDCNDV6AAD4z9RqtbS3t6ejoyO7\\\n",
              "du3Krl27MjAw0OixYNQTgAAcc7q6ujJz5swsWrQob3zjG3PxxRfn9ttvz80335wHHnggmzdvzr59\\\n",
              "+xo9JoxaAhCAY0KtVkt/f3/OOOOMrFixIqtXr87ChQvT2tqaJHnLW96S17/+9bnvvvvypS99Kf/+\\\n",
              "7/+ee+65J7t3727w5DD6CEAAGqpWq+W8887LBRdckNNOOy3z5s1Lb29vKpXKT913zJgxWbNmTVas\\\n",
              "WJG3ve1teeihh3LLLbfk9ttvz7Zt2xowPYxOAhCAEVetVtPX15c3v/nN+fVf//VMmzYtY8eOPbTa\\\n",
              "94s0NzfnxBNPzNy5c7N+/fps2rQpN954Yz760Y9m165dqdfrR/k7gNFNAAIwItrb2zN+/PgsW7Ys\\\n",
              "V155Zc4777yMHTs21Wr1Z672/TKq1Wq6u7uzbNmyLFmyJNdcc03+7u/+LjfccEOeeOKJvPTSSxkc\\\n",
              "HDzC3wmMfgIQgKOmVqulr68v8+bNy9q1a3PRRRdl0aJFrzr4/jOVSiW1Wi21Wi1XXXVVrrzyytxx\\\n",
              "xx353Oc+lwcffDCbNm3K/v37j+hjwmgmAAE44rq7u7N8+fKsWrUqZ555Zk477bT09vaO6ONfdtll\\\n",
              "ufjii3Pvvffmy1/+cv71X/81GzduzM6dO0dsDjhWCUAAjohKpZI5c+bkkksuybnnnpt58+Zl5syZ\\\n",
              "aW5ubthMbW1tWbduXc4666y89a1vzTe+8Y189rOfzY033mjTMEUTgAC8agc3u65fvz7vete7smbN\\\n",
              "mnR2dqatrS3V6rHzYlMtLS2ZN29eZs+ende+9rW55ppr8pGPfCQ33XRTnn/+eSeXpjgCEIBfSXNz\\\n",
              "c7q7u9PX15c3velNueKKK9LX15dKpXLE9+070mq1WsaOHZuurq586EMfyrvf/e7ceOON+eQnP5mn\\\n",
              "n346L7zwgpVBiiAAAfiFKpVKuru7c/LJJ2fp0qV53etel7PPPjtdXV2NHu1VORiq06dPz+///u/n\\\n",
              "N3/zN3Prrbfm85//fB544IFs2rTJK41wXBOAAPxcixYtyrp167JixYosX748s2fPTktLS6PHOqK6\\\n",
              "urry9re/PRdddFHuv//+3HXXXfniF7+YL3/5y40ereHa29vT19eX/v7+9Pf3Z9asWfn0pz+db33r\\\n",
              "W40ejWEQgAD8lLFjx+Y1r3lNNmzYkIULF2bGjBkZN25co8c66rq6urJu3bqceeaZufzyy/Ptb387\\\n",
              "H//4x3PHHXfk5ZdfbvR4I2LmzJlZuHBh5s+fnwULFmT27NkZP358xo4de2jz+cUXX5zf+q3fyt13\\\n",
              "393ocXmVBCAAqVaraWlpSX9/f6688sq8+c1vzrRp09Le3j6sEzWPVm1tbZkzZ05OOOGEnHPOOXns\\\n",
              "scfysY99LNdff3127tw5as8pWK1WU61WDx28M27cuCxZsiRLly7NsmXLsnTp0nR3d6epqSnNzc1p\\\n",
              "ampKrVb7qed/wYIFufnmm3PVVVfls5/9bA4cONCg74hXSwACFGz8+PGZOnVqTj/99LztbW/L2Wef\\\n",
              "fWjzbmnR97NUq9V0dnZm6dKlWbp0aa6++upcd911ueWWW/Lkk09m27Ztx+xBI7VaLR0dHeno6Ehn\\\n",
              "Z2c6Ojoyb968LFq06NClv78/tVrtpz73Fz33lUolU6ZMyUc+8pFMmzYt1113XV555ZWj9a1wFAhA\\\n",
              "gMK0tbVl7ty5WbBgQc4+++ysX78+8+bNa/RYx7SDQdTb25v3vve9ede73pU77rgjX/ziF3Pvvffm\\\n",
              "0UcfbfCEQye/7u3tzeTJkzNp0qRMnTo1c+bMyezZsw9d2tvbj1jYVyqV9Pb25uqrr86kSZPywQ9+\\\n",
              "MNu2bTsiX5ujTwACFKKnpyfnnntu1q1bl2XLlmXRokXp7Oy00vcqTJo0Ke94xzty0UUX5cEHH8xX\\\n",
              "v/rVfP7zn8/GjRuzZ8+eo/747e3tOeGEEw6Lu2nTpmXSpEmHArC7u3tEntvu7u78wR/8QebOnZv3\\\n",
              "vOc9eeqpp476YzJ8lXq9Xm/0EKOZH5zw00444YRs3bo1u3fvbvQoxZs4cWIWLVqU9evX54ILLsi0\\\n",
              "adMyYcKEhr46x/Fo3759+d73vpf77rsv119/fW699dYcqV+v1Wo1s2bNOrTZduHChZk7d246OzsP\\\n",
              "XTo6On7mvnojqV6v56tf/WquuuqqbNy4sWFz/LJKzx8BOEwCkOPdT+40fvB6c3NzJk+efOi0EAcv\\\n",
              "B08V0d7e3ujR+aFarZaWlpY0NTX5mXWUDQwMZN++fdm0aVOuvfba3Hbbbdm2bdvPPadgrVZLU1PT\\\n",
              "oQMvuru7Dx2UsWTJkixZsiTjx48/7N/fsXpgzuDgYL7zne/kD//wD3PHHXcc06+wUnr+CMBhOhb/\\\n",
              "AcKvolKppLW1NW1tbWlvb097e/uh62PGjMnkyZMzY8aMTJ8+/bC306ZNS2tra6PHh2Pak08+mU99\\\n",
              "6lP5p3/6p3z3u9/N9u3bD51KZezYsRk/fnxmz5596LQrCxcuTH9/f6PHHrannnoq73vf+3LzzTcf\\\n",
              "syfULj1/BOAwCUBGg2q1euiXzbhx4w57293dnQkTJmTixImZOHFient709vbm4kTJ6anp8emQjgC\\\n",
              "nnvuuXzhC1/II488ctiKeV9fX8aMGdPo8Y6KHTt25K//+q/z4Q9/+Jg8h2Lp+SMAh0kAcqxoamo6\\\n",
              "tAP4T156e3sPrTr85KWzszPVarXR4wPHoQMHDuRjH/tYPvCBD+Tpp59u9DiHKT1/BOAwCUBGSqVS\\\n",
              "SVtbW2bMmJGZM2emr6/vsLdTp05Na2trWltb09LScujS2tqa5uZmf1eBhti3b1++8IUv5I/+6I/y\\\n",
              "yCOPNHqcQ0rPHwE4TH6pcqS0tLSks7Mz3d3dh73m5o8fWNHb23toR/4fvxxcwfP3ETgWDQ4O5t57\\\n",
              "783v/d7v5f777z8mDg4pPX8E4DD5hctw1Gq1TJo0Kf39/Vm9enUuvfTSnHXWWY0eC+CoeOKJJ/L+\\\n",
              "978/N910U8NfQaX0/BGAwyQAeTVaW1uzbNmynHHGGVm5cmVWrVqVqVOn2hcPOO5t3749V199dT75\\\n",
              "yU/mpZdeatgcpeePABwmAcivYvr06Xn961+f1772tTnllFMya9asdHR0NHosgBH10ksv5e///u/z\\\n",
              "wQ9+MFu3bm3IDKXnjwAcJgHIz3Nw/7wVK1bkne98Z9avX5+enp50dXVZ7QOKtmvXrtx888354z/+\\\n",
              "44ZEYOn5IwCHSQDykyqVSsaNG5cpU6bk/PPPz5VXXpkFCxYcepkmf2cAhgwODuYrX/lKPvCBD+Rf\\\n",
              "/uVfRvSxS88fAThMfplzUFdXV2bPnp1TTjklF154Yc4999xMmTKl0WMBHNPq9XoeeeSR/O7v/m6+\\\n",
              "8pWvZP/+/SP2uCUTgMMkAJkzZ05WrlyZs846K2eccUaWLFmSWq3W6LEARo16vZ4tW7bkz/7sz3Lz\\\n",
              "zTfnlVdeGZHHLJkAHCYBWKb29vasXLkyl1xySc4444z09/dn4sSJ9usDGIatW7fm2muvzYc//OGj\\\n",
              "HoGl548AHCYBWIZKpZJarZZx48blne98Zy677LLMnTs3nZ2dh07MDMDw7dq1K5/4xCdyww035K67\\\n",
              "7jpqj1N6/gjAYfKL//jW0dGRCRMmZOnSpbn88suzYcMGr7oBcJQNDg7mjjvuyLvf/e48/PDDR+Ux\\\n",
              "Ss8fAThMIuD4U6vVMnPmzCxYsCCrVq3KBRdckPnz56e5ubnRowEUY2BgIF/72tfynve8Jxs3bjzi\\\n",
              "B4eUnj8CcJgE4PGjo6Mjq1evzpo1a3Laaadl6dKlmTRpUqPHAijaQw89lGuuuSa33nrrEY3A0vNH\\\n",
              "AA6TABz95syZk0svvTQXXnhh+vr6MnXq1LS2tjZ6LAB+aMuWLfmrv/qr3H///bn77ruPyNcsPX8E\\\n",
              "4DAJwNGnubk5HR0dWbVqVX7jN34jq1evztixY9Pa2ur5BDhG7dy5Mx//+MfzN3/zN3n88ceH/fVK\\\n",
              "zx8BOEyCYXRobm5Ob29vpk+fngsvvDCXXXZZ5s2bd+jjnkeAY9/evXtz00035X3ve1+2bNkyrIgr\\\n",
              "PX8E4DAJh2NbT09PFi5cmKVLl2b9+vVZt25dxo4d2+ixAHiVBgYGctttt+XP//zP89BDD2VwcPBV\\\n",
              "fZ3S80cADpMAPPY0NTXlpJNOynnnnZeVK1fm1FNPzezZsx3FC3Acueeee3LNNddk27Zt+frXv/4r\\\n",
              "f37p+SMAh0kAHlsuueSSbNiwIcuXL8/kyZPT1dXl1TkAjlNPPfVU/uEf/iE33XRTnnjiiV/pc0vP\\\n",
              "HwE4TAJw5DU3N6e5uTmtra3p6+vLunXrcvbZZx86mKO5udlr8QIUoF6vZ/v27fnoRz+av/3bv822\\\n",
              "bdt+pc8tmQAcJgF49LW3t6e7uzs9PT2ZMmVKTj311Jxxxhk588wz09/f3+jxAGiwXbt25UMf+lCu\\\n",
              "vfbaPP/887/U55SePwJwmATgkdfU1JSZM2emv78/s2bNyty5c3PyySfnlFNOyaxZs9Le3t7oEQE4\\\n",
              "Bn3iE5/IX/7lX6Zareab3/zmz71v6fnT1OgBoFqtZtq0aVm8eHEWL16chQsXZsaMGZk6dWqmTZuW\\\n",
              "jo4OoQ3AL3TFFVekv78/n/vc57Jz585s2rSp0SMdswQgI65SqWT8+PE5/fTTs2rVqqxcuTKzZs1K\\\n",
              "Z2dnOjs7BR8Ar0qlUsmaNWvS29ub/fv359Of/nR27NjR6LGOSTYBD5NQ+c9VKpW0tbWltbU1ra2t\\\n",
              "WbRoUc4+++ysW7cuixYtSnt7e6rVamq1mj9HAI6Yer2eZ599Nu9///vzqU99Knv27PmZ9ymZABwm\\\n",
              "4fIjlUolY8eOTW9vbyZOnJgZM2bktNNOy2mnnZbly5dn/PjxjR4RgILs2bMnf/qnf5rrr78+7e3t\\\n",
              "2bx586GPlZ4/AnCYSg/Arq6uzJo1K3PmzMncuXMzd+7czJs3L/Pmzcv06dOdgw+AhqrX67nuuuvy\\\n",
              "zW9+M7fccku2bNly6PaSCcBhKi0Am5qacuKJJ2bZsmVZunRpTjrppEyZMiWTJ09Ob29vWltbGz0i\\\n",
              "ABxm3759ufPOO3PDDTfktttuy44dO4oPQAeB8DNVKpVDl+nTp2fNmjVZs2ZNVqxYkd7e3rS3t2fM\\\n",
              "mDFpaWkpLoIBGF1aWlpyzjnnZMKECXnhhRfyz//8z40eqeGsAA7T8RI/TU1NGTNmTMaMGZPu7u4s\\\n",
              "X748a9euzerVqzN37txUq9XDohAARpt6vZ6tW7dmw4YNueuuuxo9TkMJwGEazTFUqVTS19eX2bNn\\\n",
              "55RTTsnSpUuzbNmyzJ8/38mWAeA4ZhNwgXp6erJs2bKcddZZOf3007N8+fJMmzat0WMBACNEABZk\\\n",
              "8eLFueiii7J27drMnj07fX19aW5uHtWrmADAr04AHqcqlUpqtVomTJiQ888/P1dccUVOPfXUdHR0\\\n",
              "pLW11elZAKBgAvA409nZmZ6ensyfPz+XX355zj///EyaNOnQx632AQAC8DhQrVZz4okn5qSTTsrK\\\n",
              "lStz3nnnZcmSJVb5AICfSQCOYtOmTcvKlSuzevXqLFmyJIsWLUpPT0+jxwIAjnECcJSpVqtZvXp1\\\n",
              "Lr300qxcuTLTp0/P1KlTbdoFAH5pAvAYV61W09LSkr6+vrzpTW/KFVdckVmzZqWtrS1NTU3CDwD4\\\n",
              "lQnAY1C1Ws348eMzefLknH766dmwYUPWrl2brq6uJA7kAACGRwAeQ9rb2zN//vwsXrw4K1euzDnn\\\n",
              "nJPZs2cLPgDgiBKAx4C5c+fmnHPOydq1azN//vzMmzfv0GofAMCRJgAbpLm5OW94wxuyYcOGLFu2\\\n",
              "LJMmTUp3d7fVPgDgqBOAI6S5uTltbW05+eST82u/9mt5xzvekfHjx6e5uTm1Wq3R4wEABRGAR1Fz\\\n",
              "c3N6e3szY8aMrF27NpdcckmWL1+e1tbWRo8GABRMAB4FPT09OfXUU7Ns2bKcddZZWb16dSZNmmTz\\\n",
              "LgBwTBCAR0hTU1MWL16c17zmNVm1alVOOumkzJw5M21tbY0eDQDgMAJwmDo6OvLWt741b3nLW3LK\\\n",
              "Kaekp6cnHR0dVvsAgGNWpV6v1xs9xGi2Z8+eNDU1pVqtplqtNnocAIBfSAACABTGkhUAQGEEIABA\\\n",
              "YQQgAEBhBCAAQGEEIABAYQQgAEBhBCAAQGEEIABAYQQgAEBhBCAAQGEEIABAYQQgAEBhBCAAQGEE\\\n",
              "IABAYQQgAEBhBCAAQGEEIABAYQQgAEBhBCAAQGEEIABAYQQgAEBhBCAAQGEEIABAYQQgAEBhBCAA\\\n",
              "QGEEIABAYQQgAEBhBCAAQGEEIABAYQQgAEBhBCAAQGEEIABAYQQgAEBhBCAAQGEEIABAYQQgAEBh\\\n",
              "BCAAQGEEIABAYQQgAEBhBCAAQGEEIABAYQQgAEBhBCAAQGEEIABAYQQgAEBhBCAAQGEEIABAYQQg\\\n",
              "AEBhBCAAQGEEIABAYQQgAEBhBCAAQGEEIABAYQQgAEBhBCAAQGEEIABAYQQgAEBhBCAAQGEEIABA\\\n",
              "YQQgAEBhBCAAQGEEIABAYQQgAEBhBCAAQGEEIABAYQQgAEBhBCAAQGEEIABAYQQgAEBhBCAAQGEE\\\n",
              "IABAYQQgAEBhBCAAQGEEIABAYQQgAEBhBCAAQGEEIABAYQQgAEBhBCAAQGEEIABAYQQgAEBhBCAA\\\n",
              "QGEEIABAYQQgAEBhBCAAQGEEIABAYQQgAEBhBCAAQGEEIABAYQQgAEBhBCAAQGEEIABAYQQgAEBh\\\n",
              "BCAAQGEEIABAYQQgAEBhBCAAQGEEIABAYQQgAEBh/j8H13x1ie1ncgAAAABJRU5ErkJggg==\\\n",
              "\"\n",
              "\n",
              "\n",
              "    /* set a timeout to make sure all the above elements are created before\n",
              "       the object is initialized. */\n",
              "    setTimeout(function() {\n",
              "        anim27a3b09a2bd04196bb22c5ababe4fa6e = new Animation(frames, img_id, slider_id, 34.0,\n",
              "                                 loop_select_id);\n",
              "    }, 0);\n",
              "  })()\n",
              "</script>\n"
            ]
          },
          "metadata": {},
          "execution_count": 39
        },
        {
          "output_type": "display_data",
          "data": {
            "text/plain": [
              "<Figure size 640x480 with 1 Axes>"
            ],
            "image/png": "[encoded data removed]"
          },
          "metadata": {}
        }
      ]
    }
  ]
}